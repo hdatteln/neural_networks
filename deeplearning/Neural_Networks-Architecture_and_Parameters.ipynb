{
 "cells": [
  {
   "cell_type": "markdown",
   "metadata": {
    "deletable": true,
    "editable": true
   },
   "source": [
    "# Neural Networks - Architecture & Parameters\n",
    "\n",
    "### Introduction\n",
    "\n",
    "~ 10 mins\n",
    "\n",
    "- How many layers? (depth)  \n",
    "- How many units? (width)  \n",
    "- How are they interconnected? \n",
    "- Weights and biases\n",
    "- Activation function\n",
    "- Loss function\n",
    "- Dropout\n",
    "- Learning rate\n",
    "- Training batch size\n",
    "- Training epochs \n",
    "- Momentum\n",
    "- (...)  \n",
    "u'U+2610 ToDo: Flesh out...\n",
    "\n",
    "Finding the ideal architecture & Parameters for a task usually requires a good bit of experimentation!  \n",
    "\n",
    "A detailed overview of different architecture types can be found here:  \n",
    "http://www.asimovinstitute.org/neural-network-zoo/\n",
    "\n",
    "![neuralnetworks.png](./neuralnetworks.png)\n"
   ]
  },
  {
   "cell_type": "markdown",
   "metadata": {
    "deletable": true,
    "editable": true
   },
   "source": [
    "# Common Neural Network Types\n",
    "\n",
    "15 mins\n",
    "\n",
    "\n",
    "\n",
    "## Feed Forward Neural Network\n",
    "\n",
    "\n",
    "- [  ] ToDo: add description / Graphic / Code exampe"
   ]
  },
  {
   "cell_type": "markdown",
   "metadata": {
    "deletable": true,
    "editable": true
   },
   "source": [
    "## Recurrent Neural Network\n",
    "\n",
    "15 mins\n",
    "\n",
    "- [ ] ToDo: add description / Graphic / Code exampe"
   ]
  },
  {
   "cell_type": "markdown",
   "metadata": {
    "collapsed": true,
    "deletable": true,
    "editable": true
   },
   "source": [
    "# Parameter Tuning Competition\n",
    "\n",
    "15 mins\n",
    "\n",
    "- [] ToDo: Very simple (and fast to train) Example with not very well tuned params.  Ask people to try to improve the parameter values, and submit/shout out Accuracy output\n",
    "\n"
   ]
  },
  {
   "cell_type": "code",
   "execution_count": null,
   "metadata": {
    "collapsed": true
   },
   "outputs": [],
   "source": []
  }
 ],
 "metadata": {
  "kernelspec": {
   "display_name": "Python 3",
   "language": "python",
   "name": "python3"
  },
  "language_info": {
   "codemirror_mode": {
    "name": "ipython",
    "version": 3
   },
   "file_extension": ".py",
   "mimetype": "text/x-python",
   "name": "python",
   "nbconvert_exporter": "python",
   "pygments_lexer": "ipython3",
   "version": "3.6.1"
  }
 },
 "nbformat": 4,
 "nbformat_minor": 2
}
