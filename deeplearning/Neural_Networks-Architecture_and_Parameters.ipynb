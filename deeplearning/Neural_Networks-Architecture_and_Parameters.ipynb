{
 "cells": [
  {
   "cell_type": "markdown",
   "metadata": {},
   "source": [
    "# Neural Networks - Architecture & Parameters\n",
    "\n",
    "### Introduction\n",
    "\n",
    "~ 10 mins\n",
    "\n",
    "- How many layers? (depth)  \n",
    "- How many units? (width)  \n",
    "- How are they interconnected? \n",
    "- Weights and biases\n",
    "- Activation function\n",
    "- Loss function\n",
    "- Dropout\n",
    "- Learning rate\n",
    "- Training batch size\n",
    "- Training epochs \n",
    "- Momentum\n",
    "- Optimizer\n",
    "- (...)  \n",
    "u'U+2610 ToDo: Flesh out...\n",
    "\n",
    "Finding the ideal architecture & Parameters for a task usually requires a good bit of experimentation!  \n",
    "\n",
    "A detailed overview of different architecture types can be found here:  \n",
    "http://www.asimovinstitute.org/neural-network-zoo/\n",
    "\n",
    "![neuralnetworks.png](./neuralnetworks.png)\n"
   ]
  },
  {
   "attachments": {},
   "cell_type": "markdown",
   "metadata": {},
   "source": [
    "# Common Neural Network Types\n",
    "\n",
    "15 mins\n",
    "\n",
    "\n",
    "## Feed Forward Neural Network\n",
    "\n",
    "### Dataset: Fashion-MNIST \n"
   ]
  },
  {
   "cell_type": "code",
   "execution_count": 5,
   "metadata": {},
   "outputs": [
    {
     "name": "stderr",
     "output_type": "stream",
     "text": [
      "Using TensorFlow backend.\n"
     ]
    }
   ],
   "source": [
    "# Import libraries\n",
    "from keras.datasets import fashion_mnist\n",
    "from keras import models, layers, utils, callbacks\n",
    "import numpy as np\n",
    "import matplotlib.pyplot as plt\n",
    "\n",
    "# # Set random seed\n",
    "np.random.seed(0)"
   ]
  },
  {
   "cell_type": "code",
   "execution_count": 6,
   "metadata": {},
   "outputs": [],
   "source": [
    "# Load data and target vector from Mnist fashion data\n",
    "(x_train, y_train), (x_test, y_test) = fashion_mnist.load_data()\n",
    "\n",
    "# Create label dictionary for later\n",
    "\n",
    "label_names = {\n",
    "    0 : 'T-shirt/top', 1 : 'Trousers',\n",
    "    2 : 'Pullover', 3 : 'Dress',\n",
    "    4 : 'Coat', 5 : 'Sandal',\n",
    "    6 : 'Shirt', 7 : 'Sneaker',\n",
    "    8 : 'Bag', 9 : 'Ankle Boot'\n",
    "}"
   ]
  },
  {
   "cell_type": "code",
   "execution_count": 7,
   "metadata": {},
   "outputs": [
    {
     "data": {
      "image/png": "[encoded data removed]",
      "text/plain": [
       "<matplotlib.figure.Figure at 0x181cbf7240>"
      ]
     },
     "metadata": {},
     "output_type": "display_data"
    }
   ],
   "source": [
    "# Look at an example\n",
    "sample_idx = 81\n",
    "img = x_test[sample_idx]\n",
    "class_idx = y_test[sample_idx]\n",
    "\n",
    "img = img.reshape((28,28))\n",
    "plt.imshow(img, cmap='gray')\n",
    "plt.title(label_names[class_idx])\n",
    "plt.show()"
   ]
  },
  {
   "cell_type": "code",
   "execution_count": 8,
   "metadata": {},
   "outputs": [
    {
     "data": {
      "text/plain": [
       "(28, 28)"
      ]
     },
     "execution_count": 8,
     "metadata": {},
     "output_type": "execute_result"
    }
   ],
   "source": [
    "#x_train[sample_idx]\n",
    "x_train[sample_idx].shape"
   ]
  },
  {
   "cell_type": "code",
   "execution_count": 9,
   "metadata": {},
   "outputs": [],
   "source": [
    "# Reshape\n",
    "input_dim = 784 # 28*28\n",
    "X_train = x_train.reshape(60000, input_dim) \n",
    "X_test = x_test.reshape(10000, input_dim) \n",
    "X_train = X_train.astype('float32') \n",
    "X_test = X_test.astype('float32') \n",
    "X_train /= 255 \n",
    "X_test /= 255\n",
    "\n",
    "# Labels to categorical\n",
    "Y_train = utils.to_categorical(y_train, num_classes=10)\n",
    "Y_test = utils.to_categorical(y_test, num_classes=10)"
   ]
  },
  {
   "cell_type": "code",
   "execution_count": 52,
   "metadata": {},
   "outputs": [],
   "source": [
    "# Parameters\n",
    "p_activation_1 = 'tanh'\n",
    "p_units_1 = 5\n",
    "p_optimizer = 'nadam'\n",
    "p_epochs = 10\n",
    "# p_units_2 = 30 \n",
    "# p_activation_2 = 'relu'\n",
    "\n",
    "\n",
    "all_params = str(p_batch_size) + p_activation_1 + str(p_units_1) + p_optimizer + str(p_epochs) + p_activation_2"
   ]
  },
  {
   "cell_type": "code",
   "execution_count": 53,
   "metadata": {},
   "outputs": [],
   "source": [
    "# Start neural network\n",
    "model = models.Sequential()\n",
    "\n",
    "# Add fully connected layer with a ReLU activation function\n",
    "model.add(layers.Dense(\n",
    "    units=p_units_1, \n",
    "    activation=p_activation_1, \n",
    "    input_shape=(input_dim,), \n",
    "    name=\"dense_one\"))\n",
    "\n",
    "# Add fully connected layer with a sigmoid activation function\n",
    "model.add(\n",
    "    layers.Dense(\n",
    "        units=10, \n",
    "        activation='softmax', \n",
    "        name=\"dense_two\"))\n",
    "\n",
    "\n",
    "tb = callbacks.TensorBoard(log_dir='./Graph/' + all_params, histogram_freq=0, write_graph=True, write_images=True)\n"
   ]
  },
  {
   "cell_type": "code",
   "execution_count": 54,
   "metadata": {},
   "outputs": [],
   "source": [
    "# Compile neural network model\n",
    "model.compile(loss='categorical_crossentropy', \n",
    "              optimizer=p_optimizer, \n",
    "              metrics=['accuracy'])\n"
   ]
  },
  {
   "cell_type": "code",
   "execution_count": 55,
   "metadata": {},
   "outputs": [
    {
     "name": "stdout",
     "output_type": "stream",
     "text": [
      "Epoch 1/10\n",
      "60000/60000 [==============================] - 1s 24us/step - loss: 0.9256 - acc: 0.7382\n",
      "Epoch 2/10\n",
      "60000/60000 [==============================] - 1s 24us/step - loss: 0.5643 - acc: 0.8198\n",
      "Epoch 3/10\n",
      "60000/60000 [==============================] - 1s 22us/step - loss: 0.5086 - acc: 0.8317\n",
      "Epoch 4/10\n",
      "60000/60000 [==============================] - 1s 22us/step - loss: 0.4882 - acc: 0.8367\n",
      "Epoch 5/10\n",
      "60000/60000 [==============================] - 1s 22us/step - loss: 0.4757 - acc: 0.8387\n",
      "Epoch 6/10\n",
      "60000/60000 [==============================] - 1s 22us/step - loss: 0.4675 - acc: 0.8420\n",
      "Epoch 7/10\n",
      "60000/60000 [==============================] - 1s 20us/step - loss: 0.4617 - acc: 0.8433\n",
      "Epoch 8/10\n",
      "60000/60000 [==============================] - 1s 22us/step - loss: 0.4570 - acc: 0.8444\n",
      "Epoch 9/10\n",
      "60000/60000 [==============================] - 1s 21us/step - loss: 0.4537 - acc: 0.8455\n",
      "Epoch 10/10\n",
      "60000/60000 [==============================] - 1s 23us/step - loss: 0.4514 - acc: 0.8457\n"
     ]
    },
    {
     "data": {
      "text/plain": [
       "<keras.callbacks.History at 0x183afc7358>"
      ]
     },
     "execution_count": 55,
     "metadata": {},
     "output_type": "execute_result"
    }
   ],
   "source": [
    "# Train the model\n",
    "\n",
    "model.fit(X_train, Y_train, epochs=p_epochs, batch_size=p_batch_size, callbacks=[tb])"
   ]
  },
  {
   "cell_type": "code",
   "execution_count": 18,
   "metadata": {},
   "outputs": [
    {
     "name": "stdout",
     "output_type": "stream",
     "text": [
      "10000/10000 [==============================] - 0s 21us/step\n"
     ]
    },
    {
     "data": {
      "text/plain": [
       "[0.35969814462661742, 0.87170000000000003]"
      ]
     },
     "execution_count": 18,
     "metadata": {},
     "output_type": "execute_result"
    }
   ],
   "source": [
    "# Evaluate the model\n",
    "model.evaluate(X_test, Y_test)\n"
   ]
  },
  {
   "cell_type": "code",
   "execution_count": 19,
   "metadata": {},
   "outputs": [
    {
     "name": "stdout",
     "output_type": "stream",
     "text": [
      "(1, 784)\n",
      "predicting: Bag\n"
     ]
    }
   ],
   "source": [
    "print(X_test[sample_idx].reshape(1,784).shape)\n",
    "X_t = X_test[sample_idx].reshape(1,784)\n",
    "test_pred = model.predict_classes(X_t)\n",
    "print(\"predicting: \" + label_names[test_pred[0]])"
   ]
  },
  {
   "cell_type": "markdown",
   "metadata": {},
   "source": [
    "## Recurrent Neural Network\n",
    "\n",
    "15 mins\n",
    "\n",
    "- [ ] ToDo: add description / Graphic / Code exampe"
   ]
  },
  {
   "cell_type": "markdown",
   "metadata": {
    "collapsed": true
   },
   "source": [
    "# Parameter Tuning Competition\n",
    "\n",
    "15 mins\n",
    "\n",
    "- [] ToDo: Very simple (and fast to train) Example with not very well tuned params.  Ask people to try to improve the parameter values, and submit/shout out Accuracy output\n",
    "\n"
   ]
  },
  {
   "cell_type": "code",
   "execution_count": null,
   "metadata": {},
   "outputs": [],
   "source": []
  }
 ],
 "metadata": {
  "kernelspec": {
   "display_name": "Python 3",
   "language": "python",
   "name": "python3"
  },
  "language_info": {
   "codemirror_mode": {
    "name": "ipython",
    "version": 3
   },
   "file_extension": ".py",
   "mimetype": "text/x-python",
   "name": "python",
   "nbconvert_exporter": "python",
   "pygments_lexer": "ipython3",
   "version": "3.6.2"
  }
 },
 "nbformat": 4,
 "nbformat_minor": 2
}
