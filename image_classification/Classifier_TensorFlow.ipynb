{
 "cells": [
  {
   "cell_type": "markdown",
   "metadata": {},
   "source": [
    "# Image Classification with TensorFlow\n",
    "### Using the MNIST dataset"
   ]
  },
  {
   "cell_type": "code",
   "execution_count": 21,
   "metadata": {},
   "outputs": [
    {
     "name": "stdout",
     "output_type": "stream",
     "text": [
      "Extracting ./data/train-images-idx3-ubyte.gz\n",
      "Extracting ./data/train-labels-idx1-ubyte.gz\n",
      "Extracting ./data/t10k-images-idx3-ubyte.gz\n",
      "Extracting ./data/t10k-labels-idx1-ubyte.gz\n"
     ]
    }
   ],
   "source": [
    "from tensorflow.examples.tutorials.mnist import input_data\n",
    "import tensorflow as tf\n",
    "\n",
    "# Get mnist data set\n",
    "mnist = input_data.read_data_sets(\"./data/\", one_hot=True, reshape=False)\n",
    "\n"
   ]
  },
  {
   "cell_type": "markdown",
   "metadata": {},
   "source": [
    "## Displaying Example Images"
   ]
  },
  {
   "cell_type": "code",
   "execution_count": 22,
   "metadata": {},
   "outputs": [
    {
     "data": {
      "image/png": "[encoded data removed]",
      "text/plain": [
       "<matplotlib.figure.Figure at 0x118f94ef0>"
      ]
     },
     "metadata": {},
     "output_type": "display_data"
    }
   ],
   "source": [
    "import matplotlib\n",
    "import numpy as np\n",
    "import matplotlib.pyplot as plt\n",
    "%matplotlib inline  \n",
    "\n",
    "index_of_image_to_view = 9987\n",
    "plot_title = \"MNIST Image No. %s\" % index_of_image_to_view\n",
    "\n",
    "image_pixels_array = mnist.train.images[index_of_image_to_view]\n",
    "image_pixels_reshaped = np.reshape(image_pixels_array, (28, 28)) \n",
    "\n",
    "plt.title(plot_title)\n",
    "plt.imshow(image_pixels_reshaped, cmap='gray')\n",
    "plt.show()"
   ]
  },
  {
   "cell_type": "markdown",
   "metadata": {},
   "source": [
    "## Network Parameters"
   ]
  },
  {
   "cell_type": "code",
   "execution_count": 23,
   "metadata": {
    "collapsed": true
   },
   "outputs": [],
   "source": [
    "# Settings\n",
    "\n",
    "learning_rate = 0.005\n",
    "training_epochs = 80\n",
    "batch_size = 256\n",
    "display_step = 1\n",
    "n_input = 784       # MNIST images are 28*28 px, =784\n",
    "n_classes = 10      # number of digits\n",
    "\n",
    "n_hidden_layer_features = 256\n",
    "\n",
    "weights = {\n",
    "    'hidden_layer': tf.Variable(tf.random_normal([n_input, n_hidden_layer_features])),\n",
    "    'output': tf.Variable(tf.random_normal([n_hidden_layer_features, n_classes]))\n",
    "}\n",
    "\n",
    "biases = {\n",
    "    'hidden_layer': tf.Variable(tf.random_normal([n_hidden_layer_features])),\n",
    "    'output': tf.Variable(tf.random_normal([n_classes]))\n",
    "}"
   ]
  },
  {
   "cell_type": "markdown",
   "metadata": {},
   "source": [
    "## Input"
   ]
  },
  {
   "cell_type": "code",
   "execution_count": 24,
   "metadata": {
    "collapsed": true
   },
   "outputs": [],
   "source": [
    "x = tf.placeholder(\"float\", [None, 28, 28, 1])\n",
    "y = tf.placeholder(\"float\", [None, n_classes])\n",
    "\n",
    "flat_features = tf.reshape(x, [-1, n_input])"
   ]
  },
  {
   "cell_type": "markdown",
   "metadata": {},
   "source": [
    "## Network"
   ]
  },
  {
   "cell_type": "code",
   "execution_count": 25,
   "metadata": {
    "collapsed": true
   },
   "outputs": [],
   "source": [
    "# Hidden layer with ReLU activation function\n",
    "\n",
    "def ReLU_Network(flat_features, weights, biases):\n",
    "    hidden_layer = tf.add(tf.matmul(flat_features, weights['hidden_layer']), biases['hidden_layer'])\n",
    "    hidden_layer = tf.nn.relu(hidden_layer)\n",
    "\n",
    "    # Output layer, simple linear activation\n",
    "    logits = tf.add(tf.matmul(hidden_layer, weights['output']), biases['output'])\n",
    "    return logits\n",
    "\n",
    "# Cost\n",
    "logits = ReLU_Network(flat_features, weights, biases)\n",
    "cost = tf.reduce_mean(tf.nn.softmax_cross_entropy_with_logits(logits=logits, labels=y))\n",
    "\n",
    "# Optmimier\n",
    "optimizer = tf.train.AdamOptimizer(learning_rate=learning_rate).minimize(cost)\n",
    "\n",
    "# Evaluate model\n",
    "correct_prediction = tf.equal(tf.argmax(logits,1), tf.argmax(y,1))\n",
    "accuracy = tf.reduce_mean(tf.cast(correct_prediction, tf.float32))"
   ]
  },
  {
   "cell_type": "markdown",
   "metadata": {},
   "source": [
    "## Start Session"
   ]
  },
  {
   "cell_type": "code",
   "execution_count": 26,
   "metadata": {},
   "outputs": [
    {
     "name": "stdout",
     "output_type": "stream",
     "text": [
      "Loss = 4.81221, Accuracy: 0.90625\n",
      "Loss = 1.96905, Accuracy: 0.914062\n",
      "Loss = 2.70033, Accuracy: 0.925781\n",
      "Loss = 0.992314, Accuracy: 0.96875\n",
      "Loss = 0.815255, Accuracy: 0.953125\n",
      "Loss = 0.861149, Accuracy: 0.960938\n",
      "Loss = 0.605924, Accuracy: 0.976562\n",
      "Loss = 0.241812, Accuracy: 0.964844\n",
      "Loss = 0.118306, Accuracy: 0.984375\n",
      "Loss = 0.0367031, Accuracy: 0.996094\n",
      "Loss = 0.012198, Accuracy: 0.996094\n",
      "Loss = 0.101633, Accuracy: 0.988281\n",
      "Loss = 0.0776152, Accuracy: 0.992188\n",
      "Loss = 0.000116203, Accuracy: 1.0\n",
      "Loss = 0.000392132, Accuracy: 1.0\n",
      "Loss = 0.0007864, Accuracy: 1.0\n",
      "Loss = 3.30404e-05, Accuracy: 1.0\n",
      "Loss = 0.0268911, Accuracy: 0.996094\n",
      "Loss = 0.0179508, Accuracy: 0.992188\n",
      "Loss = 1.81747e-05, Accuracy: 1.0\n",
      "Loss = 7.99914e-06, Accuracy: 1.0\n",
      "Loss = 0.251167, Accuracy: 0.992188\n",
      "Loss = 0.000782173, Accuracy: 1.0\n",
      "Loss = 0.0178846, Accuracy: 0.996094\n",
      "Loss = 3.969e-06, Accuracy: 1.0\n",
      "Loss = 0.0219705, Accuracy: 0.996094\n",
      "Loss = 0.0328069, Accuracy: 0.996094\n",
      "Loss = 0.000835043, Accuracy: 1.0\n",
      "Loss = 0.00167565, Accuracy: 1.0\n",
      "Loss = 3.51884e-06, Accuracy: 1.0\n",
      "Loss = 0.0161608, Accuracy: 0.996094\n",
      "Loss = 7.23307e-06, Accuracy: 1.0\n",
      "Loss = 0.0792181, Accuracy: 0.992188\n",
      "Loss = 5.08081e-06, Accuracy: 1.0\n",
      "Loss = 0.000241972, Accuracy: 1.0\n",
      "Loss = 0.00111556, Accuracy: 1.0\n",
      "Loss = 4.11048e-05, Accuracy: 1.0\n",
      "Loss = 0.000330441, Accuracy: 1.0\n",
      "Loss = 2.06014e-05, Accuracy: 1.0\n",
      "Loss = 0.000211932, Accuracy: 1.0\n",
      "Loss = 0.0828453, Accuracy: 0.996094\n",
      "Loss = 0.00043883, Accuracy: 1.0\n",
      "Loss = 2.3469e-07, Accuracy: 1.0\n",
      "Loss = 8.95093e-06, Accuracy: 1.0\n",
      "Loss = 6.19885e-05, Accuracy: 1.0\n",
      "Loss = 0.00067021, Accuracy: 1.0\n",
      "Loss = 2.6347e-06, Accuracy: 1.0\n",
      "Loss = 0.000183904, Accuracy: 1.0\n",
      "Loss = 0.000124213, Accuracy: 1.0\n",
      "Loss = 4.46078e-07, Accuracy: 1.0\n",
      "Loss = 3.41319e-05, Accuracy: 1.0\n",
      "Loss = 4.01389e-06, Accuracy: 1.0\n",
      "Loss = 0.0159044, Accuracy: 0.996094\n",
      "Loss = 0.000391774, Accuracy: 1.0\n",
      "Loss = 6.5595e-06, Accuracy: 1.0\n",
      "Loss = 0.000564894, Accuracy: 1.0\n",
      "Loss = 0.000327045, Accuracy: 1.0\n",
      "Loss = 9.29661e-06, Accuracy: 1.0\n",
      "Loss = 6.61234e-08, Accuracy: 1.0\n",
      "Loss = 3.80901e-07, Accuracy: 1.0\n",
      "Loss = 1.29203e-06, Accuracy: 1.0\n",
      "Loss = 1.28052e-05, Accuracy: 1.0\n",
      "Loss = 1.9527e-05, Accuracy: 1.0\n",
      "Loss = 7.16915e-05, Accuracy: 1.0\n",
      "Loss = 2.16405e-05, Accuracy: 1.0\n",
      "Loss = 0.109869, Accuracy: 0.996094\n",
      "Loss = 0.000279897, Accuracy: 1.0\n",
      "Loss = 1.49496e-06, Accuracy: 1.0\n",
      "Loss = 0.0, Accuracy: 1.0\n",
      "Loss = 1.72778e-05, Accuracy: 1.0\n",
      "Loss = 0.0, Accuracy: 1.0\n",
      "Loss = 1.22424e-05, Accuracy: 1.0\n",
      "Loss = 0.000152154, Accuracy: 1.0\n",
      "Loss = 4.58649e-07, Accuracy: 1.0\n",
      "Loss = 1.16415e-08, Accuracy: 1.0\n",
      "Loss = 2.06957e-05, Accuracy: 1.0\n",
      "Loss = 0.000441119, Accuracy: 1.0\n",
      "Loss = 0.0, Accuracy: 1.0\n",
      "Loss = 1.87151e-06, Accuracy: 1.0\n",
      "Loss = 4.16279e-07, Accuracy: 1.0\n",
      "Training Finished!\n"
     ]
    }
   ],
   "source": [
    "save_file = './trained_model.ckpt'\n",
    "saver = tf.train.Saver()\n",
    "\n",
    "with tf.Session() as sess:\n",
    "    sess.run(tf.global_variables_initializer())\n",
    "    \n",
    "    for epoch in range(training_epochs):\n",
    "        batches = int(mnist.train.num_examples/batch_size)\n",
    "        step = 1\n",
    "        for i in range(batches):\n",
    "            batch_x, batch_y = mnist.train.next_batch(batch_size)\n",
    "            \n",
    "            sess.run(optimizer, feed_dict={x: batch_x, y: batch_y})\n",
    "            \n",
    "            # Print accuracy and loss\n",
    "            if  step % batches == 0:\n",
    "              \n",
    "                # Calculate loss and accuracy\n",
    "                loss = sess.run(cost, feed_dict={x: batch_x, y: batch_y})\n",
    "                acc = sess.run(accuracy, feed_dict={x: batch_x, y: batch_y})\n",
    "                \n",
    "                message = \"Loss = %s, Accuracy: %s\" % (loss, acc)\n",
    "                print(message)\n",
    "                \n",
    "            step += 1\n",
    "    \n",
    "    # Save the model\n",
    "    saver.save(sess, save_file)\n",
    "    print(\"Training Finished!\")\n",
    "        "
   ]
  },
  {
   "cell_type": "markdown",
   "metadata": {
    "collapsed": true
   },
   "source": [
    "## Validation & Testing"
   ]
  },
  {
   "cell_type": "code",
   "execution_count": 30,
   "metadata": {},
   "outputs": [
    {
     "name": "stdout",
     "output_type": "stream",
     "text": [
      "Accuracy: 0.9726\n"
     ]
    }
   ],
   "source": [
    "saver = tf.train.Saver()\n",
    "\n",
    "# Launch the graph\n",
    "with tf.Session() as sess:\n",
    "    saver.restore(sess, save_file)\n",
    "    \n",
    "    test_accuracy = sess.run(accuracy, feed_dict={x: mnist.test.images, y: mnist.test.labels})\n",
    "\n",
    "print(\"Accuracy: %s\" % test_accuracy)    "
   ]
  },
  {
   "cell_type": "code",
   "execution_count": null,
   "metadata": {
    "collapsed": true
   },
   "outputs": [],
   "source": []
  }
 ],
 "metadata": {
  "kernelspec": {
   "display_name": "Python 3",
   "language": "python",
   "name": "python3"
  },
  "language_info": {
   "codemirror_mode": {
    "name": "ipython",
    "version": 3
   },
   "file_extension": ".py",
   "mimetype": "text/x-python",
   "name": "python",
   "nbconvert_exporter": "python",
   "pygments_lexer": "ipython3",
   "version": "3.6.1"
  }
 },
 "nbformat": 4,
 "nbformat_minor": 2
}
