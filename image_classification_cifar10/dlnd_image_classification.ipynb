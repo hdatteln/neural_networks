{
 "cells": [
  {
   "cell_type": "markdown",
   "metadata": {
    "collapsed": true,
    "deletable": true,
    "editable": true
   },
   "source": [
    "# Image Classification\n",
    "In this project, you'll classify images from the [CIFAR-10 dataset](https://www.cs.toronto.edu/~kriz/cifar.html).  The dataset consists of airplanes, dogs, cats, and other objects. You'll preprocess the images, then train a convolutional neural network on all the samples. The images need to be normalized and the labels need to be one-hot encoded.  You'll get to apply what you learned and build a convolutional, max pooling, dropout, and fully connected layers.  At the end, you'll get to see your neural network's predictions on the sample images.\n",
    "## Get the Data\n",
    "Run the following cell to download the [CIFAR-10 dataset for python](https://www.cs.toronto.edu/~kriz/cifar-10-python.tar.gz)."
   ]
  },
  {
   "cell_type": "code",
   "execution_count": 1,
   "metadata": {
    "collapsed": false,
    "deletable": true,
    "editable": true
   },
   "outputs": [
    {
     "name": "stdout",
     "output_type": "stream",
     "text": [
      "All files found!\n"
     ]
    }
   ],
   "source": [
    "\"\"\"\n",
    "DON'T MODIFY ANYTHING IN THIS CELL THAT IS BELOW THIS LINE\n",
    "\"\"\"\n",
    "from urllib.request import urlretrieve\n",
    "from os.path import isfile, isdir\n",
    "from tqdm import tqdm\n",
    "import problem_unittests as tests\n",
    "import tarfile\n",
    "\n",
    "cifar10_dataset_folder_path = 'cifar-10-batches-py'\n",
    "\n",
    "# Use Floyd's cifar-10 dataset if present\n",
    "floyd_cifar10_location = '/input/cifar-10/python.tar.gz'\n",
    "if isfile(floyd_cifar10_location):\n",
    "    tar_gz_path = floyd_cifar10_location\n",
    "else:\n",
    "    tar_gz_path = 'cifar-10-python.tar.gz'\n",
    "\n",
    "class DLProgress(tqdm):\n",
    "    last_block = 0\n",
    "\n",
    "    def hook(self, block_num=1, block_size=1, total_size=None):\n",
    "        self.total = total_size\n",
    "        self.update((block_num - self.last_block) * block_size)\n",
    "        self.last_block = block_num\n",
    "\n",
    "if not isfile(tar_gz_path):\n",
    "    with DLProgress(unit='B', unit_scale=True, miniters=1, desc='CIFAR-10 Dataset') as pbar:\n",
    "        urlretrieve(\n",
    "            'https://www.cs.toronto.edu/~kriz/cifar-10-python.tar.gz',\n",
    "            tar_gz_path,\n",
    "            pbar.hook)\n",
    "\n",
    "if not isdir(cifar10_dataset_folder_path):\n",
    "    with tarfile.open(tar_gz_path) as tar:\n",
    "        tar.extractall()\n",
    "        tar.close()\n",
    "\n",
    "\n",
    "tests.test_folder_path(cifar10_dataset_folder_path)"
   ]
  },
  {
   "cell_type": "markdown",
   "metadata": {
    "deletable": true,
    "editable": true
   },
   "source": [
    "## Explore the Data\n",
    "The dataset is broken into batches to prevent your machine from running out of memory.  The CIFAR-10 dataset consists of 5 batches, named `data_batch_1`, `data_batch_2`, etc.. Each batch contains the labels and images that are one of the following:\n",
    "* airplane\n",
    "* automobile\n",
    "* bird\n",
    "* cat\n",
    "* deer\n",
    "* dog\n",
    "* frog\n",
    "* horse\n",
    "* ship\n",
    "* truck\n",
    "\n",
    "Understanding a dataset is part of making predictions on the data.  Play around with the code cell below by changing the `batch_id` and `sample_id`. The `batch_id` is the id for a batch (1-5). The `sample_id` is the id for a image and label pair in the batch.\n",
    "\n",
    "Ask yourself \"What are all possible labels?\", \"What is the range of values for the image data?\", \"Are the labels in order or random?\".  Answers to questions like these will help you preprocess the data and end up with better predictions."
   ]
  },
  {
   "cell_type": "code",
   "execution_count": 2,
   "metadata": {
    "collapsed": false,
    "deletable": true,
    "editable": true
   },
   "outputs": [
    {
     "name": "stdout",
     "output_type": "stream",
     "text": [
      "\n",
      "Stats of batch 3:\n",
      "Samples: 10000\n",
      "Label Counts: {0: 994, 1: 1042, 2: 965, 3: 997, 4: 990, 5: 1029, 6: 978, 7: 1015, 8: 961, 9: 1029}\n",
      "First 20 Labels: [8, 5, 0, 6, 9, 2, 8, 3, 6, 2, 7, 4, 6, 9, 0, 0, 7, 3, 7, 2]\n",
      "\n",
      "Example of Image 7:\n",
      "Image - Min Value: 12 Max Value: 254\n",
      "Image - Shape: (32, 32, 3)\n",
      "Label - Label Id: 3 Name: cat\n"
     ]
    },
    {
     "data": {
      "image/png": "[encoded data removed]",
      "text/plain": [
       "<matplotlib.figure.Figure at 0x7ff09c039908>"
      ]
     },
     "metadata": {
      "image/png": {
       "height": 250,
       "width": 253
      }
     },
     "output_type": "display_data"
    }
   ],
   "source": [
    "%matplotlib inline\n",
    "%config InlineBackend.figure_format = 'retina'\n",
    "\n",
    "import helper\n",
    "import numpy as np\n",
    "\n",
    "# Explore the dataset\n",
    "batch_id = 3\n",
    "sample_id = 7\n",
    "helper.display_stats(cifar10_dataset_folder_path, batch_id, sample_id)"
   ]
  },
  {
   "cell_type": "markdown",
   "metadata": {
    "deletable": true,
    "editable": true
   },
   "source": [
    "### What are all possible labels?\n",
    "* airplane (#0)\n",
    "* automobile (#1)\n",
    "* bird (#2)\n",
    "* cat (#3)\n",
    "* deer (#4)\n",
    "* dog (#5)\n",
    "* frog (#6)\n",
    "* horse (#7)\n",
    "* ship (#8)\n",
    "* truck (#9)\n",
    "\n",
    "### What is the range of values for the image data?\n",
    "Min Value: 0 Max Value: 255 (RGB)\n",
    "\n",
    "### What is the shape of the image?\n",
    "32, 32, 3\n",
    "\n",
    "### Are the labels in order or random?\n",
    "labels seem to be in random order within the batches\n"
   ]
  },
  {
   "cell_type": "markdown",
   "metadata": {
    "deletable": true,
    "editable": true
   },
   "source": [
    "## Implement Preprocess Functions\n",
    "### Normalize\n",
    "In the cell below, implement the `normalize` function to take in image data, `x`, and return it as a normalized Numpy array. The values should be in the range of 0 to 1, inclusive.  The return object should be the same shape as `x`."
   ]
  },
  {
   "cell_type": "code",
   "execution_count": 3,
   "metadata": {
    "collapsed": false,
    "deletable": true,
    "editable": true
   },
   "outputs": [
    {
     "name": "stdout",
     "output_type": "stream",
     "text": [
      "Tests Passed\n"
     ]
    }
   ],
   "source": [
    "def normalize(x):\n",
    "    \"\"\"\n",
    "    Normalize the image data with Min-Max scaling in the range of 0 to 1\n",
    "    : x: List of image data.  The image shape is (32, 32, 3)\n",
    "    : return: Numpy array of normalize data\n",
    "    \"\"\"\n",
    "    a = 0.0\n",
    "    b = 1.0\n",
    "    imgdata_min = 0\n",
    "    imgdata_max = 255\n",
    "    \n",
    "    x_normalized = a + ((( x - imgdata_min )*(b - a))/( imgdata_max - imgdata_min ))\n",
    "    \n",
    "    return x_normalized\n",
    "\n",
    "\n",
    "\"\"\"\n",
    "DON'T MODIFY ANYTHING IN THIS CELL THAT IS BELOW THIS LINE\n",
    "\"\"\"\n",
    "tests.test_normalize(normalize)"
   ]
  },
  {
   "cell_type": "markdown",
   "metadata": {
    "deletable": true,
    "editable": true
   },
   "source": [
    "### One-hot encode\n",
    "Just like the previous code cell, you'll be implementing a function for preprocessing.  This time, you'll implement the `one_hot_encode` function. The input, `x`, are a list of labels.  Implement the function to return the list of labels as One-Hot encoded Numpy array.  The possible values for labels are 0 to 9. The one-hot encoding function should return the same encoding for each value between each call to `one_hot_encode`.  Make sure to save the map of encodings outside the function.\n",
    "\n",
    "Hint: Don't reinvent the wheel."
   ]
  },
  {
   "cell_type": "code",
   "execution_count": 4,
   "metadata": {
    "collapsed": false,
    "deletable": true,
    "editable": true
   },
   "outputs": [
    {
     "name": "stdout",
     "output_type": "stream",
     "text": [
      "Tests Passed\n"
     ]
    }
   ],
   "source": [
    "one_hot_encodings = []\n",
    "\n",
    "for label in range(10):\n",
    "    encoding = np.zeros(10)\n",
    "    encoding[label] = 1\n",
    "    one_hot_encodings.append(encoding)\n",
    "    \n",
    "\n",
    "def one_hot_encode(x):\n",
    "    \"\"\"\n",
    "    One hot encode a list of sample labels. Return a one-hot encoded vector for each label.\n",
    "    : x: List of sample Labels\n",
    "    : return: Numpy array of one-hot encoded labels\n",
    "    \"\"\"\n",
    "    return np.array([one_hot_encodings[i] for i in x], dtype=np.int32)\n",
    "\n",
    "\"\"\"\n",
    "DON'T MODIFY ANYTHING IN THIS CELL THAT IS BELOW THIS LINE\n",
    "\"\"\"\n",
    "tests.test_one_hot_encode(one_hot_encode)"
   ]
  },
  {
   "cell_type": "markdown",
   "metadata": {
    "deletable": true,
    "editable": true
   },
   "source": [
    "### Randomize Data\n",
    "As you saw from exploring the data above, the order of the samples are randomized.  It doesn't hurt to randomize it again, but you don't need to for this dataset."
   ]
  },
  {
   "cell_type": "markdown",
   "metadata": {
    "deletable": true,
    "editable": true
   },
   "source": [
    "## Preprocess all the data and save it\n",
    "Running the code cell below will preprocess all the CIFAR-10 data and save it to file. The code below also uses 10% of the training data for validation."
   ]
  },
  {
   "cell_type": "code",
   "execution_count": 5,
   "metadata": {
    "collapsed": true,
    "deletable": true,
    "editable": true
   },
   "outputs": [],
   "source": [
    "\"\"\"\n",
    "DON'T MODIFY ANYTHING IN THIS CELL\n",
    "\"\"\"\n",
    "# Preprocess Training, Validation, and Testing Data\n",
    "helper.preprocess_and_save_data(cifar10_dataset_folder_path, normalize, one_hot_encode)"
   ]
  },
  {
   "cell_type": "markdown",
   "metadata": {
    "deletable": true,
    "editable": true
   },
   "source": [
    "# Check Point\n",
    "This is your first checkpoint.  If you ever decide to come back to this notebook or have to restart the notebook, you can start from here.  The preprocessed data has been saved to disk."
   ]
  },
  {
   "cell_type": "code",
   "execution_count": 6,
   "metadata": {
    "collapsed": true,
    "deletable": true,
    "editable": true
   },
   "outputs": [],
   "source": [
    "\"\"\"\n",
    "DON'T MODIFY ANYTHING IN THIS CELL\n",
    "\"\"\"\n",
    "import pickle\n",
    "import problem_unittests as tests\n",
    "import helper\n",
    "\n",
    "# Load the Preprocessed Validation data\n",
    "valid_features, valid_labels = pickle.load(open('preprocess_validation.p', mode='rb'))"
   ]
  },
  {
   "cell_type": "markdown",
   "metadata": {
    "deletable": true,
    "editable": true
   },
   "source": [
    "## Build the network\n",
    "For the neural network, you'll build each layer into a function.  Most of the code you've seen has been outside of functions. To test your code more thoroughly, we require that you put each layer in a function.  This allows us to give you better feedback and test for simple mistakes using our unittests before you submit your project.\n",
    "\n",
    ">**Note:** If you're finding it hard to dedicate enough time for this course each week, we've provided a small shortcut to this part of the project. In the next couple of problems, you'll have the option to use classes from the [TensorFlow Layers](https://www.tensorflow.org/api_docs/python/tf/layers) or [TensorFlow Layers (contrib)](https://www.tensorflow.org/api_guides/python/contrib.layers) packages to build each layer, except the layers you build in the \"Convolutional and Max Pooling Layer\" section.  TF Layers is similar to Keras's and TFLearn's abstraction to layers, so it's easy to pickup.\n",
    "\n",
    ">However, if you would like to get the most out of this course, try to solve all the problems _without_ using anything from the TF Layers packages. You **can** still use classes from other packages that happen to have the same name as ones you find in TF Layers! For example, instead of using the TF Layers version of the `conv2d` class, [tf.layers.conv2d](https://www.tensorflow.org/api_docs/python/tf/layers/conv2d), you would want to use the TF Neural Network version of `conv2d`, [tf.nn.conv2d](https://www.tensorflow.org/api_docs/python/tf/nn/conv2d). \n",
    "\n",
    "Let's begin!\n",
    "\n",
    "### Input\n",
    "The neural network needs to read the image data, one-hot encoded labels, and dropout keep probability. Implement the following functions\n",
    "* Implement `neural_net_image_input`\n",
    " * Return a [TF Placeholder](https://www.tensorflow.org/api_docs/python/tf/placeholder)\n",
    " * Set the shape using `image_shape` with batch size set to `None`.\n",
    " * Name the TensorFlow placeholder \"x\" using the TensorFlow `name` parameter in the [TF Placeholder](https://www.tensorflow.org/api_docs/python/tf/placeholder).\n",
    "* Implement `neural_net_label_input`\n",
    " * Return a [TF Placeholder](https://www.tensorflow.org/api_docs/python/tf/placeholder)\n",
    " * Set the shape using `n_classes` with batch size set to `None`.\n",
    " * Name the TensorFlow placeholder \"y\" using the TensorFlow `name` parameter in the [TF Placeholder](https://www.tensorflow.org/api_docs/python/tf/placeholder).\n",
    "* Implement `neural_net_keep_prob_input`\n",
    " * Return a [TF Placeholder](https://www.tensorflow.org/api_docs/python/tf/placeholder) for dropout keep probability.\n",
    " * Name the TensorFlow placeholder \"keep_prob\" using the TensorFlow `name` parameter in the [TF Placeholder](https://www.tensorflow.org/api_docs/python/tf/placeholder).\n",
    "\n",
    "These names will be used at the end of the project to load your saved model.\n",
    "\n",
    "Note: `None` for shapes in TensorFlow allow for a dynamic size."
   ]
  },
  {
   "cell_type": "code",
   "execution_count": 7,
   "metadata": {
    "collapsed": false,
    "deletable": true,
    "editable": true
   },
   "outputs": [
    {
     "name": "stdout",
     "output_type": "stream",
     "text": [
      "Image Input Tests Passed.\n",
      "Label Input Tests Passed.\n",
      "Keep Prob Tests Passed.\n"
     ]
    }
   ],
   "source": [
    "import tensorflow as tf\n",
    "\n",
    "    \n",
    "def neural_net_image_input(image_shape):\n",
    "    \"\"\"\n",
    "    Return a Tensor for a batch of image input\n",
    "    : image_shape: Shape of the images\n",
    "    : return: Tensor for image input.\n",
    "    \"\"\"\n",
    "    batch_size = None\n",
    "    return tf.placeholder(dtype=tf.float32, shape=(batch_size, *image_shape), name=\"x\")\n",
    "\n",
    "\n",
    "def neural_net_label_input(n_classes):\n",
    "    \"\"\"\n",
    "    Return a Tensor for a batch of label input\n",
    "    : n_classes: Number of classes\n",
    "    : return: Tensor for label input.\n",
    "    \"\"\"\n",
    "    batch_size = None\n",
    "    return tf.placeholder(dtype=tf.float32, shape=(batch_size, n_classes), name=\"y\")\n",
    "\n",
    "\n",
    "def neural_net_keep_prob_input():\n",
    "    \"\"\"\n",
    "    Return a Tensor for keep probability\n",
    "    : return: Tensor for keep probability.\n",
    "    \"\"\"\n",
    "    return tf.placeholder(dtype=tf.float32, name=\"keep_prob\")\n",
    "\n",
    "\n",
    "\"\"\"\n",
    "DON'T MODIFY ANYTHING IN THIS CELL THAT IS BELOW THIS LINE\n",
    "\"\"\"\n",
    "tf.reset_default_graph()\n",
    "tests.test_nn_image_inputs(neural_net_image_input)\n",
    "tests.test_nn_label_inputs(neural_net_label_input)\n",
    "tests.test_nn_keep_prob_inputs(neural_net_keep_prob_input)"
   ]
  },
  {
   "cell_type": "markdown",
   "metadata": {
    "deletable": true,
    "editable": true
   },
   "source": [
    "### Convolution and Max Pooling Layer\n",
    "Convolution layers have a lot of success with images. For this code cell, you should implement the function `conv2d_maxpool` to apply convolution then max pooling:\n",
    "* Create the weight and bias using `conv_ksize`, `conv_num_outputs` and the shape of `x_tensor`.\n",
    "* Apply a convolution to `x_tensor` using weight and `conv_strides`.\n",
    " * We recommend you use same padding, but you're welcome to use any padding.\n",
    "* Add bias\n",
    "* Add a nonlinear activation to the convolution.\n",
    "* Apply Max Pooling using `pool_ksize` and `pool_strides`.\n",
    " * We recommend you use same padding, but you're welcome to use any padding.\n",
    "\n",
    "**Note:** You **can't** use [TensorFlow Layers](https://www.tensorflow.org/api_docs/python/tf/layers) or [TensorFlow Layers (contrib)](https://www.tensorflow.org/api_guides/python/contrib.layers) for **this** layer, but you can still use TensorFlow's [Neural Network](https://www.tensorflow.org/api_docs/python/tf/nn) package. You may still use the shortcut option for all the **other** layers."
   ]
  },
  {
   "cell_type": "code",
   "execution_count": 8,
   "metadata": {
    "collapsed": false,
    "deletable": true,
    "editable": true
   },
   "outputs": [
    {
     "name": "stdout",
     "output_type": "stream",
     "text": [
      "Tests Passed\n"
     ]
    }
   ],
   "source": [
    "def conv2d_maxpool(x_tensor, conv_num_outputs, conv_ksize, conv_strides, pool_ksize, pool_strides):\n",
    "    \"\"\"\n",
    "    Apply convolution then max pooling to x_tensor\n",
    "    :param x_tensor: TensorFlow Tensor\n",
    "    :param conv_num_outputs: Number of outputs for the convolutional layer\n",
    "    :param conv_ksize: kernal size 2-D Tuple for the convolutional layer\n",
    "    :param conv_strides: Stride 2-D Tuple for convolution\n",
    "    :param pool_ksize: kernal size 2-D Tuple for pool\n",
    "    :param pool_strides: Stride 2-D Tuple for pool\n",
    "    : return: A tensor that represents convolution and max pooling of x_tensor\n",
    "    \"\"\"\n",
    "    weight = tf.Variable(tf.truncated_normal(\n",
    "        shape = [*conv_ksize, int(x_tensor.get_shape().dims[3]), conv_num_outputs], \n",
    "        mean = 0.0, \n",
    "        stddev=0.1, \n",
    "        dtype=tf.float32))\n",
    "    bias = tf.Variable(tf.zeros(conv_num_outputs))\n",
    "    \n",
    " \n",
    "    # Convolutional layer\n",
    "    conv_layer = tf.nn.conv2d(x_tensor, weight, strides=[1, *conv_strides, 1], padding='SAME')\n",
    "    conv_layer = tf.nn.bias_add(conv_layer, bias)\n",
    "    conv_layer = tf.nn.relu(conv_layer)\n",
    "\n",
    "    # Max Pooling (down-sampling)\n",
    "    conv_layer = tf.nn.max_pool(conv_layer, ksize=[1, *pool_ksize, 1], strides=[1, *pool_strides, 1], padding='SAME')\n",
    "                 \n",
    "    return conv_layer \n",
    "\n",
    "\n",
    "\"\"\"\n",
    "DON'T MODIFY ANYTHING IN THIS CELL THAT IS BELOW THIS LINE\n",
    "\"\"\"\n",
    "tests.test_con_pool(conv2d_maxpool)"
   ]
  },
  {
   "cell_type": "markdown",
   "metadata": {
    "deletable": true,
    "editable": true
   },
   "source": [
    "### Flatten Layer\n",
    "Implement the `flatten` function to change the dimension of `x_tensor` from a 4-D tensor to a 2-D tensor.  The output should be the shape (*Batch Size*, *Flattened Image Size*). Shortcut option: you can use classes from the [TensorFlow Layers](https://www.tensorflow.org/api_docs/python/tf/layers) or [TensorFlow Layers (contrib)](https://www.tensorflow.org/api_guides/python/contrib.layers) packages for this layer. For more of a challenge, only use other TensorFlow packages."
   ]
  },
  {
   "cell_type": "code",
   "execution_count": 9,
   "metadata": {
    "collapsed": false,
    "deletable": true,
    "editable": true
   },
   "outputs": [
    {
     "name": "stdout",
     "output_type": "stream",
     "text": [
      "Tests Passed\n"
     ]
    }
   ],
   "source": [
    "def flatten(x_tensor):\n",
    "    \"\"\"\n",
    "    Flatten x_tensor to (Batch Size, Flattened Image Size)\n",
    "    : x_tensor: A tensor of size (Batch Size, ...), where ... are the image dimensions.\n",
    "    : return: A tensor of size (Batch Size, Flattened Image Size).\n",
    "    \"\"\"\n",
    "    features = x_tensor.get_shape().dims[1] * x_tensor.get_shape().dims[2]  * x_tensor.get_shape().dims[3] \n",
    "    features = int(features)\n",
    "    reshaped_tensor = tf.reshape(x_tensor, [-1, features])\n",
    "    return reshaped_tensor\n",
    "\n",
    "\n",
    "\"\"\"\n",
    "DON'T MODIFY ANYTHING IN THIS CELL THAT IS BELOW THIS LINE\n",
    "\"\"\"\n",
    "tests.test_flatten(flatten)"
   ]
  },
  {
   "cell_type": "markdown",
   "metadata": {
    "deletable": true,
    "editable": true
   },
   "source": [
    "### Fully-Connected Layer\n",
    "Implement the `fully_conn` function to apply a fully connected layer to `x_tensor` with the shape (*Batch Size*, *num_outputs*). Shortcut option: you can use classes from the [TensorFlow Layers](https://www.tensorflow.org/api_docs/python/tf/layers) or [TensorFlow Layers (contrib)](https://www.tensorflow.org/api_guides/python/contrib.layers) packages for this layer. For more of a challenge, only use other TensorFlow packages."
   ]
  },
  {
   "cell_type": "code",
   "execution_count": 10,
   "metadata": {
    "collapsed": false,
    "deletable": true,
    "editable": true
   },
   "outputs": [
    {
     "name": "stdout",
     "output_type": "stream",
     "text": [
      "Tests Passed\n"
     ]
    }
   ],
   "source": [
    "def fully_conn(x_tensor, num_outputs):\n",
    "    \"\"\"\n",
    "    Apply a fully connected layer to x_tensor using weight and bias\n",
    "    : x_tensor: A 2-D tensor where the first dimension is batch size.\n",
    "    : num_outputs: The number of output that the new tensor should be.\n",
    "    : return: A 2-D tensor where the second dimension is num_outputs.\n",
    "    \"\"\"\n",
    "\n",
    "    stddev_val = 0.1\n",
    "    mean_val = 0.0\n",
    "    \n",
    "    weight_fc = tf.Variable(tf.truncated_normal\n",
    "                            ([int(x_tensor.get_shape().dims[1]), \n",
    "                              int(num_outputs)], \n",
    "                             stddev=stddev_val, \n",
    "                             mean=mean_val,\n",
    "                             dtype=tf.float32)\n",
    "                           )\n",
    "    bias_fc = tf.Variable(tf.zeros([num_outputs], dtype=tf.float32))\n",
    "    \n",
    "    conv_layer = tf.add(tf.matmul(x_tensor, weight_fc), bias_fc)\n",
    "    conv_layer = tf.nn.relu(conv_layer)\n",
    "\n",
    "    return conv_layer\n",
    "\n",
    "\n",
    "\"\"\"\n",
    "DON'T MODIFY ANYTHING IN THIS CELL THAT IS BELOW THIS LINE\n",
    "\"\"\"\n",
    "tests.test_fully_conn(fully_conn)"
   ]
  },
  {
   "cell_type": "markdown",
   "metadata": {
    "deletable": true,
    "editable": true
   },
   "source": [
    "### Output Layer\n",
    "Implement the `output` function to apply a fully connected layer to `x_tensor` with the shape (*Batch Size*, *num_outputs*). Shortcut option: you can use classes from the [TensorFlow Layers](https://www.tensorflow.org/api_docs/python/tf/layers) or [TensorFlow Layers (contrib)](https://www.tensorflow.org/api_guides/python/contrib.layers) packages for this layer. For more of a challenge, only use other TensorFlow packages.\n",
    "\n",
    "**Note:** Activation, softmax, or cross entropy should **not** be applied to this."
   ]
  },
  {
   "cell_type": "code",
   "execution_count": 11,
   "metadata": {
    "collapsed": false,
    "deletable": true,
    "editable": true
   },
   "outputs": [
    {
     "name": "stdout",
     "output_type": "stream",
     "text": [
      "Tests Passed\n"
     ]
    }
   ],
   "source": [
    "def output(x_tensor, num_outputs):\n",
    "    \"\"\"\n",
    "    Apply a output layer to x_tensor using weight and bias\n",
    "    : x_tensor: A 2-D tensor where the first dimension is batch size.\n",
    "    : num_outputs: The number of output that the new tensor should be.\n",
    "    : return: A 2-D tensor where the second dimension is num_outputs.\n",
    "    \"\"\"\n",
    "    stddev_val = 0.1\n",
    "    mean_val = 0.0\n",
    "    weight_out = tf.Variable(tf.truncated_normal\n",
    "                            ([int(x_tensor.get_shape().dims[1]),\n",
    "                              int(num_outputs)],\n",
    "                             stddev=stddev_val,\n",
    "                             mean=mean_val,\n",
    "                             dtype=tf.float32)\n",
    "                           )\n",
    "    bias_out = tf.Variable(tf.zeros([num_outputs], dtype=tf.float32))\n",
    "    \n",
    "    conv_layer = tf.add(tf.matmul(x_tensor, weight_out), bias_out)\n",
    "    return conv_layer\n",
    "\n",
    "\n",
    "\"\"\"\n",
    "DON'T MODIFY ANYTHING IN THIS CELL THAT IS BELOW THIS LINE\n",
    "\"\"\"\n",
    "tests.test_output(output)"
   ]
  },
  {
   "cell_type": "markdown",
   "metadata": {
    "deletable": true,
    "editable": true
   },
   "source": [
    "### Create Convolutional Model\n",
    "Implement the function `conv_net` to create a convolutional neural network model. The function takes in a batch of images, `x`, and outputs logits.  Use the layers you created above to create this model:\n",
    "\n",
    "* Apply 1, 2, or 3 Convolution and Max Pool layers\n",
    "* Apply a Flatten Layer\n",
    "* Apply 1, 2, or 3 Fully Connected Layers\n",
    "* Apply an Output Layer\n",
    "* Return the output\n",
    "* Apply [TensorFlow's Dropout](https://www.tensorflow.org/api_docs/python/tf/nn/dropout) to one or more layers in the model using `keep_prob`. "
   ]
  },
  {
   "cell_type": "code",
   "execution_count": 112,
   "metadata": {
    "collapsed": false,
    "deletable": true,
    "editable": true
   },
   "outputs": [
    {
     "name": "stdout",
     "output_type": "stream",
     "text": [
      "Neural Network Built!\n"
     ]
    }
   ],
   "source": [
    "def conv_net(x, keep_prob):\n",
    "    \"\"\"\n",
    "    Create a convolutional neural network model\n",
    "    : x: Placeholder tensor that holds image data.\n",
    "    : keep_prob: Placeholder tensor that hold dropout keep probability.\n",
    "    : return: Tensor that represents logits\n",
    "    \"\"\"\n",
    "\n",
    "    # Layer 1 - 32*32*1 to 16*16*32\n",
    "    conv1_num_outputs = 35\n",
    "    conv1_ksize = (3, 3)\n",
    "    conv1_strides = (1,1)\n",
    "    conv1_pool_ksize = (2, 2)\n",
    "    conv1_pool_strides = (2,2)\n",
    "    conv1 = conv2d_maxpool(x, conv1_num_outputs, conv1_ksize, conv1_strides, conv1_pool_ksize, conv1_pool_strides)\n",
    "    \n",
    "    # Layer 2 - 16*16*32 to 8*8*70\n",
    "    conv2_num_outputs = 70\n",
    "    conv2_ksize = (3, 3)\n",
    "    conv2_strides = (1, 1)\n",
    "    conv2_pool_ksize = (2, 2)\n",
    "    conv2_pool_strides = (2, 2)  \n",
    "    conv2 = conv2d_maxpool(conv1, conv2_num_outputs, conv2_ksize, conv2_strides, conv2_pool_ksize, conv2_pool_strides)\n",
    "\n",
    "    # Layer 3 - 8*8*70 to 4*4*200\n",
    "    conv3_num_outputs = 200\n",
    "    conv3_ksize = (3, 3)\n",
    "    conv3_strides = (1, 1)\n",
    "    conv3_pool_ksize = (2, 2)\n",
    "    conv3_pool_strides = (2, 2)  \n",
    "    conv3 = conv2d_maxpool(conv2, conv3_num_outputs, conv3_ksize, conv3_strides, conv3_pool_ksize, conv3_pool_strides)\n",
    "    \n",
    "    \n",
    "    # Function Definition from Above:\n",
    "    flattened_layer = flatten(conv3)\n",
    "\n",
    "    # Fully connected layer - 4*4*200 to 1200\n",
    "    fc_num_outputs = 1200\n",
    "    fc = fully_conn(flattened_layer, fc_num_outputs)\n",
    "       \n",
    "    # Output Layer\n",
    "    out_num_outputs = 10\n",
    "    out = output(fc, out_num_outputs)\n",
    "    \n",
    "    # return output\n",
    "    return out\n",
    "\n",
    "\n",
    "\"\"\"\n",
    "DON'T MODIFY ANYTHING IN THIS CELL THAT IS BELOW THIS LINE\n",
    "\"\"\"\n",
    "\n",
    "##############################\n",
    "## Build the Neural Network ##\n",
    "##############################\n",
    "\n",
    "# Remove previous weights, bias, inputs, etc..\n",
    "tf.reset_default_graph()\n",
    "\n",
    "# Inputs\n",
    "x = neural_net_image_input((32, 32, 3))\n",
    "y = neural_net_label_input(10)\n",
    "keep_prob = neural_net_keep_prob_input()\n",
    "\n",
    "# Model\n",
    "logits = conv_net(x, keep_prob)\n",
    "\n",
    "# Name logits Tensor, so that is can be loaded from disk after training\n",
    "logits = tf.identity(logits, name='logits')\n",
    "\n",
    "# Loss and Optimizer\n",
    "cost = tf.reduce_mean(tf.nn.softmax_cross_entropy_with_logits(logits=logits, labels=y))\n",
    "optimizer = tf.train.AdamOptimizer().minimize(cost)\n",
    "\n",
    "# Accuracy\n",
    "correct_pred = tf.equal(tf.argmax(logits, 1), tf.argmax(y, 1))\n",
    "accuracy = tf.reduce_mean(tf.cast(correct_pred, tf.float32), name='accuracy')\n",
    "\n",
    "tests.test_conv_net(conv_net)"
   ]
  },
  {
   "cell_type": "markdown",
   "metadata": {
    "deletable": true,
    "editable": true
   },
   "source": [
    "## Train the Neural Network\n",
    "### Single Optimization\n",
    "Implement the function `train_neural_network` to do a single optimization.  The optimization should use `optimizer` to optimize in `session` with a `feed_dict` of the following:\n",
    "* `x` for image input\n",
    "* `y` for labels\n",
    "* `keep_prob` for keep probability for dropout\n",
    "\n",
    "This function will be called for each batch, so `tf.global_variables_initializer()` has already been called.\n",
    "\n",
    "Note: Nothing needs to be returned. This function is only optimizing the neural network."
   ]
  },
  {
   "cell_type": "code",
   "execution_count": 113,
   "metadata": {
    "collapsed": false,
    "deletable": true,
    "editable": true
   },
   "outputs": [
    {
     "name": "stdout",
     "output_type": "stream",
     "text": [
      "Tests Passed\n"
     ]
    }
   ],
   "source": [
    "def train_neural_network(session, optimizer, keep_probability, feature_batch, label_batch):\n",
    "    \"\"\"\n",
    "    Optimize the session on a batch of images and labels\n",
    "    : session: Current TensorFlow session\n",
    "    : optimizer: TensorFlow optimizer function\n",
    "    : keep_probability: keep probability\n",
    "    : feature_batch: Batch of Numpy image data\n",
    "    : label_batch: Batch of Numpy label data\n",
    "    \"\"\"\n",
    "    \n",
    "    session.run(optimizer, feed_dict={\n",
    "        x: feature_batch,\n",
    "        y: label_batch,\n",
    "        keep_prob: keep_probability})\n",
    "\n",
    "\n",
    "\"\"\"\n",
    "DON'T MODIFY ANYTHING IN THIS CELL THAT IS BELOW THIS LINE\n",
    "\"\"\"\n",
    "tests.test_train_nn(train_neural_network)"
   ]
  },
  {
   "cell_type": "markdown",
   "metadata": {
    "deletable": true,
    "editable": true
   },
   "source": [
    "### Show Stats\n",
    "Implement the function `print_stats` to print loss and validation accuracy.  Use the global variables `valid_features` and `valid_labels` to calculate validation accuracy.  Use a keep probability of `1.0` to calculate the loss and validation accuracy."
   ]
  },
  {
   "cell_type": "code",
   "execution_count": 119,
   "metadata": {
    "collapsed": true,
    "deletable": true,
    "editable": true
   },
   "outputs": [],
   "source": [
    "def print_stats(session, feature_batch, label_batch, cost, accuracy):\n",
    "    \"\"\"\n",
    "    Print information about loss and validation accuracy\n",
    "    : session: Current TensorFlow session\n",
    "    : feature_batch: Batch of Numpy image data\n",
    "    : label_batch: Batch of Numpy label data\n",
    "    : cost: TensorFlow cost function\n",
    "    : accuracy: TensorFlow accuracy function\n",
    "    \"\"\"\n",
    "    \n",
    "    # Calculate batch loss and accuracy   \n",
    "    loss = sess.run(cost, feed_dict={\n",
    "        x: feature_batch,\n",
    "        y: label_batch,\n",
    "        keep_prob: 1.})\n",
    "    valid_acc = sess.run(accuracy, feed_dict={\n",
    "        x: valid_features,\n",
    "        y: valid_labels,\n",
    "        keep_prob: 1.})\n",
    "\n",
    "            \n",
    "    print('Loss: {:>10.4f} Validation Accuracy: {:.6f}'.format(loss, valid_acc))\n",
    "    pass\n"
   ]
  },
  {
   "cell_type": "markdown",
   "metadata": {
    "deletable": true,
    "editable": true
   },
   "source": [
    "### Hyperparameters\n",
    "Tune the following parameters:\n",
    "* Set `epochs` to the number of iterations until the network stops learning or start overfitting\n",
    "* Set `batch_size` to the highest number that your machine has memory for.  Most people set them to common sizes of memory:\n",
    " * 64\n",
    " * 128\n",
    " * 256\n",
    " * ...\n",
    "* Set `keep_probability` to the probability of keeping a node using dropout"
   ]
  },
  {
   "cell_type": "code",
   "execution_count": 120,
   "metadata": {
    "collapsed": true,
    "deletable": true,
    "editable": true
   },
   "outputs": [],
   "source": [
    "# Tune Parameters\n",
    "epochs = 80\n",
    "batch_size = 256\n",
    "keep_probability = 0.85"
   ]
  },
  {
   "cell_type": "markdown",
   "metadata": {
    "deletable": true,
    "editable": true
   },
   "source": [
    "### Train on a Single CIFAR-10 Batch\n",
    "Instead of training the neural network on all the CIFAR-10 batches of data, let's use a single batch. This should save time while you iterate on the model to get a better accuracy.  Once the final validation accuracy is 50% or greater, run the model on all the data in the next section."
   ]
  },
  {
   "cell_type": "code",
   "execution_count": 116,
   "metadata": {
    "collapsed": false,
    "deletable": true,
    "editable": true
   },
   "outputs": [
    {
     "name": "stdout",
     "output_type": "stream",
     "text": [
      "Checking the Training on a Single Batch...\n",
      "Epoch  1, CIFAR-10 Batch 1:  Loss:     1.9213 Validation Accuracy: 0.349200\n",
      "Epoch  2, CIFAR-10 Batch 1:  Loss:     1.4730 Validation Accuracy: 0.449000\n",
      "Epoch  3, CIFAR-10 Batch 1:  Loss:     1.0643 Validation Accuracy: 0.480000\n",
      "Epoch  4, CIFAR-10 Batch 1:  Loss:     0.7306 Validation Accuracy: 0.523200\n",
      "Epoch  5, CIFAR-10 Batch 1:  Loss:     0.4970 Validation Accuracy: 0.536000\n",
      "Epoch  6, CIFAR-10 Batch 1:  Loss:     0.3499 Validation Accuracy: 0.556000\n",
      "Epoch  7, CIFAR-10 Batch 1:  Loss:     0.2413 Validation Accuracy: 0.564200\n",
      "Epoch  8, CIFAR-10 Batch 1:  Loss:     0.1641 Validation Accuracy: 0.549800\n",
      "Epoch  9, CIFAR-10 Batch 1:  Loss:     0.1260 Validation Accuracy: 0.570600\n",
      "Epoch 10, CIFAR-10 Batch 1:  Loss:     0.0887 Validation Accuracy: 0.576000\n",
      "Epoch 11, CIFAR-10 Batch 1:  Loss:     0.1051 Validation Accuracy: 0.561200\n",
      "Epoch 12, CIFAR-10 Batch 1:  Loss:     0.0678 Validation Accuracy: 0.576800\n",
      "Epoch 13, CIFAR-10 Batch 1:  Loss:     0.0397 Validation Accuracy: 0.581200\n",
      "Epoch 14, CIFAR-10 Batch 1:  Loss:     0.0453 Validation Accuracy: 0.549200\n",
      "Epoch 15, CIFAR-10 Batch 1:  Loss:     0.0440 Validation Accuracy: 0.530600\n",
      "Epoch 16, CIFAR-10 Batch 1:  Loss:     0.0230 Validation Accuracy: 0.578800\n",
      "Epoch 17, CIFAR-10 Batch 1:  Loss:     0.0272 Validation Accuracy: 0.548400\n",
      "Epoch 18, CIFAR-10 Batch 1:  Loss:     0.0133 Validation Accuracy: 0.564600\n",
      "Epoch 19, CIFAR-10 Batch 1:  Loss:     0.0258 Validation Accuracy: 0.563200\n",
      "Epoch 20, CIFAR-10 Batch 1:  Loss:     0.0288 Validation Accuracy: 0.567600\n",
      "Epoch 21, CIFAR-10 Batch 1:  Loss:     0.0245 Validation Accuracy: 0.562000\n",
      "Epoch 22, CIFAR-10 Batch 1:  Loss:     0.0081 Validation Accuracy: 0.584600\n",
      "Epoch 23, CIFAR-10 Batch 1:  Loss:     0.0050 Validation Accuracy: 0.593800\n",
      "Epoch 24, CIFAR-10 Batch 1:  Loss:     0.0022 Validation Accuracy: 0.609800\n",
      "Epoch 25, CIFAR-10 Batch 1:  Loss:     0.0040 Validation Accuracy: 0.599200\n",
      "Epoch 26, CIFAR-10 Batch 1:  Loss:     0.0033 Validation Accuracy: 0.584400\n",
      "Epoch 27, CIFAR-10 Batch 1:  Loss:     0.0052 Validation Accuracy: 0.600800\n",
      "Epoch 28, CIFAR-10 Batch 1:  Loss:     0.0023 Validation Accuracy: 0.593600\n",
      "Epoch 29, CIFAR-10 Batch 1:  Loss:     0.0043 Validation Accuracy: 0.597800\n",
      "Epoch 30, CIFAR-10 Batch 1:  Loss:     0.0010 Validation Accuracy: 0.614400\n",
      "Epoch 31, CIFAR-10 Batch 1:  Loss:     0.0026 Validation Accuracy: 0.610600\n",
      "Epoch 32, CIFAR-10 Batch 1:  Loss:     0.0005 Validation Accuracy: 0.601000\n",
      "Epoch 33, CIFAR-10 Batch 1:  Loss:     0.0020 Validation Accuracy: 0.580600\n",
      "Epoch 34, CIFAR-10 Batch 1:  Loss:     0.0074 Validation Accuracy: 0.554000\n",
      "Epoch 35, CIFAR-10 Batch 1:  Loss:     0.0002 Validation Accuracy: 0.601000\n",
      "Epoch 36, CIFAR-10 Batch 1:  Loss:     0.0002 Validation Accuracy: 0.597000\n",
      "Epoch 37, CIFAR-10 Batch 1:  Loss:     0.0007 Validation Accuracy: 0.593600\n",
      "Epoch 38, CIFAR-10 Batch 1:  Loss:     0.0003 Validation Accuracy: 0.602200\n",
      "Epoch 39, CIFAR-10 Batch 1:  Loss:     0.0004 Validation Accuracy: 0.616000\n",
      "Epoch 40, CIFAR-10 Batch 1:  Loss:     0.0002 Validation Accuracy: 0.625600\n",
      "Epoch 41, CIFAR-10 Batch 1:  Loss:     0.0001 Validation Accuracy: 0.627600\n",
      "Epoch 42, CIFAR-10 Batch 1:  Loss:     0.0001 Validation Accuracy: 0.628000\n",
      "Epoch 43, CIFAR-10 Batch 1:  Loss:     0.0001 Validation Accuracy: 0.630000\n",
      "Epoch 44, CIFAR-10 Batch 1:  Loss:     0.0001 Validation Accuracy: 0.629000\n",
      "Epoch 45, CIFAR-10 Batch 1:  Loss:     0.0001 Validation Accuracy: 0.628000\n",
      "Epoch 46, CIFAR-10 Batch 1:  Loss:     0.0001 Validation Accuracy: 0.628200\n",
      "Epoch 47, CIFAR-10 Batch 1:  Loss:     0.0000 Validation Accuracy: 0.628800\n",
      "Epoch 48, CIFAR-10 Batch 1:  Loss:     0.0000 Validation Accuracy: 0.628800\n",
      "Epoch 49, CIFAR-10 Batch 1:  Loss:     0.0000 Validation Accuracy: 0.629000\n",
      "Epoch 50, CIFAR-10 Batch 1:  Loss:     0.0000 Validation Accuracy: 0.629400\n",
      "Epoch 51, CIFAR-10 Batch 1:  Loss:     0.0000 Validation Accuracy: 0.629000\n",
      "Epoch 52, CIFAR-10 Batch 1:  Loss:     0.0000 Validation Accuracy: 0.629200\n",
      "Epoch 53, CIFAR-10 Batch 1:  Loss:     0.0000 Validation Accuracy: 0.630000\n",
      "Epoch 54, CIFAR-10 Batch 1:  Loss:     0.0000 Validation Accuracy: 0.630000\n",
      "Epoch 55, CIFAR-10 Batch 1:  Loss:     0.0000 Validation Accuracy: 0.630400\n",
      "Epoch 56, CIFAR-10 Batch 1:  Loss:     0.0000 Validation Accuracy: 0.630400\n",
      "Epoch 57, CIFAR-10 Batch 1:  Loss:     0.0000 Validation Accuracy: 0.630600\n",
      "Epoch 58, CIFAR-10 Batch 1:  Loss:     0.0000 Validation Accuracy: 0.630200\n",
      "Epoch 59, CIFAR-10 Batch 1:  Loss:     0.0000 Validation Accuracy: 0.630400\n",
      "Epoch 60, CIFAR-10 Batch 1:  Loss:     0.0000 Validation Accuracy: 0.630600\n",
      "Epoch 61, CIFAR-10 Batch 1:  Loss:     0.0000 Validation Accuracy: 0.630800\n",
      "Epoch 62, CIFAR-10 Batch 1:  Loss:     0.0000 Validation Accuracy: 0.631200\n",
      "Epoch 63, CIFAR-10 Batch 1:  Loss:     0.0000 Validation Accuracy: 0.631000\n",
      "Epoch 64, CIFAR-10 Batch 1:  Loss:     0.0000 Validation Accuracy: 0.630800\n",
      "Epoch 65, CIFAR-10 Batch 1:  Loss:     0.0000 Validation Accuracy: 0.631000\n",
      "Epoch 66, CIFAR-10 Batch 1:  Loss:     0.0000 Validation Accuracy: 0.631000\n",
      "Epoch 67, CIFAR-10 Batch 1:  Loss:     0.0000 Validation Accuracy: 0.631200\n",
      "Epoch 68, CIFAR-10 Batch 1:  Loss:     0.0000 Validation Accuracy: 0.631200\n",
      "Epoch 69, CIFAR-10 Batch 1:  Loss:     0.0000 Validation Accuracy: 0.631200\n",
      "Epoch 70, CIFAR-10 Batch 1:  Loss:     0.0000 Validation Accuracy: 0.631200\n",
      "Epoch 71, CIFAR-10 Batch 1:  Loss:     0.0000 Validation Accuracy: 0.631200\n",
      "Epoch 72, CIFAR-10 Batch 1:  Loss:     0.0000 Validation Accuracy: 0.631200\n",
      "Epoch 73, CIFAR-10 Batch 1:  Loss:     0.0000 Validation Accuracy: 0.631600\n",
      "Epoch 74, CIFAR-10 Batch 1:  Loss:     0.0000 Validation Accuracy: 0.631600\n",
      "Epoch 75, CIFAR-10 Batch 1:  Loss:     0.0000 Validation Accuracy: 0.631200\n"
     ]
    }
   ],
   "source": [
    "\"\"\"\n",
    "DON'T MODIFY ANYTHING IN THIS CELL\n",
    "\"\"\"\n",
    "print('Checking the Training on a Single Batch...')\n",
    "with tf.Session() as sess:\n",
    "    # Initializing the variables\n",
    "    sess.run(tf.global_variables_initializer())\n",
    "    \n",
    "    # Training cycle\n",
    "    for epoch in range(epochs):\n",
    "        batch_i = 1\n",
    "        for batch_features, batch_labels in helper.load_preprocess_training_batch(batch_i, batch_size):\n",
    "            train_neural_network(sess, optimizer, keep_probability, batch_features, batch_labels)\n",
    "        print('Epoch {:>2}, CIFAR-10 Batch {}:  '.format(epoch + 1, batch_i), end='')\n",
    "        print_stats(sess, batch_features, batch_labels, cost, accuracy)"
   ]
  },
  {
   "cell_type": "markdown",
   "metadata": {
    "deletable": true,
    "editable": true
   },
   "source": [
    "### Fully Train the Model\n",
    "Now that you got a good accuracy with a single CIFAR-10 batch, try it with all five batches."
   ]
  },
  {
   "cell_type": "code",
   "execution_count": 118,
   "metadata": {
    "collapsed": false,
    "deletable": true,
    "editable": true
   },
   "outputs": [
    {
     "name": "stdout",
     "output_type": "stream",
     "text": [
      "Training...\n",
      "Epoch  1, CIFAR-10 Batch 1:  Loss:     2.0537 Validation Accuracy: 0.311200\n",
      "Epoch  1, CIFAR-10 Batch 2:  Loss:     1.4387 Validation Accuracy: 0.434200\n",
      "Epoch  1, CIFAR-10 Batch 3:  Loss:     1.1366 Validation Accuracy: 0.455000\n",
      "Epoch  1, CIFAR-10 Batch 4:  Loss:     1.1699 Validation Accuracy: 0.522600\n",
      "Epoch  1, CIFAR-10 Batch 5:  Loss:     1.1947 Validation Accuracy: 0.548800\n",
      "Epoch  2, CIFAR-10 Batch 1:  Loss:     1.3515 Validation Accuracy: 0.571800\n",
      "Epoch  2, CIFAR-10 Batch 2:  Loss:     0.8978 Validation Accuracy: 0.575000\n",
      "Epoch  2, CIFAR-10 Batch 3:  Loss:     0.6166 Validation Accuracy: 0.565400\n",
      "Epoch  2, CIFAR-10 Batch 4:  Loss:     0.6624 Validation Accuracy: 0.606600\n",
      "Epoch  2, CIFAR-10 Batch 5:  Loss:     0.6336 Validation Accuracy: 0.635800\n",
      "Epoch  3, CIFAR-10 Batch 1:  Loss:     0.8576 Validation Accuracy: 0.611400\n",
      "Epoch  3, CIFAR-10 Batch 2:  Loss:     0.5451 Validation Accuracy: 0.582200\n",
      "Epoch  3, CIFAR-10 Batch 3:  Loss:     0.3014 Validation Accuracy: 0.652800\n",
      "Epoch  3, CIFAR-10 Batch 4:  Loss:     0.3847 Validation Accuracy: 0.642000\n",
      "Epoch  3, CIFAR-10 Batch 5:  Loss:     0.3353 Validation Accuracy: 0.658600\n",
      "Epoch  4, CIFAR-10 Batch 1:  Loss:     0.4716 Validation Accuracy: 0.651800\n",
      "Epoch  4, CIFAR-10 Batch 2:  Loss:     0.2597 Validation Accuracy: 0.637400\n",
      "Epoch  4, CIFAR-10 Batch 3:  Loss:     0.1653 Validation Accuracy: 0.672400\n",
      "Epoch  4, CIFAR-10 Batch 4:  Loss:     0.1822 Validation Accuracy: 0.674200\n",
      "Epoch  4, CIFAR-10 Batch 5:  Loss:     0.2200 Validation Accuracy: 0.635800\n",
      "Epoch  5, CIFAR-10 Batch 1:  Loss:     0.2504 Validation Accuracy: 0.660600\n",
      "Epoch  5, CIFAR-10 Batch 2:  Loss:     0.1356 Validation Accuracy: 0.664400\n",
      "Epoch  5, CIFAR-10 Batch 3:  Loss:     0.0918 Validation Accuracy: 0.674600\n",
      "Epoch  5, CIFAR-10 Batch 4:  Loss:     0.0964 Validation Accuracy: 0.690600\n",
      "Epoch  5, CIFAR-10 Batch 5:  Loss:     0.1270 Validation Accuracy: 0.657600\n",
      "Epoch  6, CIFAR-10 Batch 1:  Loss:     0.1492 Validation Accuracy: 0.684200\n",
      "Epoch  6, CIFAR-10 Batch 2:  Loss:     0.1036 Validation Accuracy: 0.666800\n",
      "Epoch  6, CIFAR-10 Batch 3:  Loss:     0.0788 Validation Accuracy: 0.669800\n",
      "Epoch  6, CIFAR-10 Batch 4:  Loss:     0.0635 Validation Accuracy: 0.667600\n",
      "Epoch  6, CIFAR-10 Batch 5:  Loss:     0.1050 Validation Accuracy: 0.657000\n",
      "Epoch  7, CIFAR-10 Batch 1:  Loss:     0.1142 Validation Accuracy: 0.661400\n",
      "Epoch  7, CIFAR-10 Batch 2:  Loss:     0.0628 Validation Accuracy: 0.692200\n",
      "Epoch  7, CIFAR-10 Batch 3:  Loss:     0.0549 Validation Accuracy: 0.686600\n",
      "Epoch  7, CIFAR-10 Batch 4:  Loss:     0.0532 Validation Accuracy: 0.656000\n",
      "Epoch  7, CIFAR-10 Batch 5:  Loss:     0.0668 Validation Accuracy: 0.676400\n",
      "Epoch  8, CIFAR-10 Batch 1:  Loss:     0.0815 Validation Accuracy: 0.685800\n",
      "Epoch  8, CIFAR-10 Batch 2:  Loss:     0.0439 Validation Accuracy: 0.682400\n",
      "Epoch  8, CIFAR-10 Batch 3:  Loss:     0.0380 Validation Accuracy: 0.681400\n",
      "Epoch  8, CIFAR-10 Batch 4:  Loss:     0.0522 Validation Accuracy: 0.672800\n",
      "Epoch  8, CIFAR-10 Batch 5:  Loss:     0.0559 Validation Accuracy: 0.690000\n",
      "Epoch  9, CIFAR-10 Batch 1:  Loss:     0.0549 Validation Accuracy: 0.676600\n",
      "Epoch  9, CIFAR-10 Batch 2:  Loss:     0.0427 Validation Accuracy: 0.669800\n",
      "Epoch  9, CIFAR-10 Batch 3:  Loss:     0.0365 Validation Accuracy: 0.670800\n",
      "Epoch  9, CIFAR-10 Batch 4:  Loss:     0.0660 Validation Accuracy: 0.650600\n",
      "Epoch  9, CIFAR-10 Batch 5:  Loss:     0.0397 Validation Accuracy: 0.686200\n",
      "Epoch 10, CIFAR-10 Batch 1:  Loss:     0.0307 Validation Accuracy: 0.690600\n",
      "Epoch 10, CIFAR-10 Batch 2:  Loss:     0.0299 Validation Accuracy: 0.702200\n",
      "Epoch 10, CIFAR-10 Batch 3:  Loss:     0.0329 Validation Accuracy: 0.659000\n",
      "Epoch 10, CIFAR-10 Batch 4:  Loss:     0.0307 Validation Accuracy: 0.687600\n",
      "Epoch 10, CIFAR-10 Batch 5:  Loss:     0.0220 Validation Accuracy: 0.686800\n",
      "Epoch 11, CIFAR-10 Batch 1:  Loss:     0.0300 Validation Accuracy: 0.681000\n",
      "Epoch 11, CIFAR-10 Batch 2:  Loss:     0.0224 Validation Accuracy: 0.676200\n",
      "Epoch 11, CIFAR-10 Batch 3:  Loss:     0.0140 Validation Accuracy: 0.684800\n",
      "Epoch 11, CIFAR-10 Batch 4:  Loss:     0.0253 Validation Accuracy: 0.683800\n",
      "Epoch 11, CIFAR-10 Batch 5:  Loss:     0.0193 Validation Accuracy: 0.706400\n",
      "Epoch 12, CIFAR-10 Batch 1:  Loss:     0.0442 Validation Accuracy: 0.644400\n",
      "Epoch 12, CIFAR-10 Batch 2:  Loss:     0.0206 Validation Accuracy: 0.671800\n",
      "Epoch 12, CIFAR-10 Batch 3:  Loss:     0.0268 Validation Accuracy: 0.633200\n",
      "Epoch 12, CIFAR-10 Batch 4:  Loss:     0.0157 Validation Accuracy: 0.691000\n",
      "Epoch 12, CIFAR-10 Batch 5:  Loss:     0.0161 Validation Accuracy: 0.700400\n",
      "Epoch 13, CIFAR-10 Batch 1:  Loss:     0.0118 Validation Accuracy: 0.686600\n",
      "Epoch 13, CIFAR-10 Batch 2:  Loss:     0.0164 Validation Accuracy: 0.671400\n",
      "Epoch 13, CIFAR-10 Batch 3:  Loss:     0.0323 Validation Accuracy: 0.667800\n",
      "Epoch 13, CIFAR-10 Batch 4:  Loss:     0.0205 Validation Accuracy: 0.662800\n",
      "Epoch 13, CIFAR-10 Batch 5:  Loss:     0.0068 Validation Accuracy: 0.710200\n",
      "Epoch 14, CIFAR-10 Batch 1:  Loss:     0.0134 Validation Accuracy: 0.697600\n",
      "Epoch 14, CIFAR-10 Batch 2:  Loss:     0.0068 Validation Accuracy: 0.652200\n",
      "Epoch 14, CIFAR-10 Batch 3:  Loss:     0.0067 Validation Accuracy: 0.700200\n",
      "Epoch 14, CIFAR-10 Batch 4:  Loss:     0.0072 Validation Accuracy: 0.672000\n",
      "Epoch 14, CIFAR-10 Batch 5:  Loss:     0.0083 Validation Accuracy: 0.674600\n",
      "Epoch 15, CIFAR-10 Batch 1:  Loss:     0.0058 Validation Accuracy: 0.694600\n",
      "Epoch 15, CIFAR-10 Batch 2:  Loss:     0.0027 Validation Accuracy: 0.677200\n",
      "Epoch 15, CIFAR-10 Batch 3:  Loss:     0.0123 Validation Accuracy: 0.665000\n",
      "Epoch 15, CIFAR-10 Batch 4:  Loss:     0.0113 Validation Accuracy: 0.660800\n",
      "Epoch 15, CIFAR-10 Batch 5:  Loss:     0.0046 Validation Accuracy: 0.692200\n",
      "Epoch 16, CIFAR-10 Batch 1:  Loss:     0.0029 Validation Accuracy: 0.712600\n",
      "Epoch 16, CIFAR-10 Batch 2:  Loss:     0.0029 Validation Accuracy: 0.693400\n",
      "Epoch 16, CIFAR-10 Batch 3:  Loss:     0.0028 Validation Accuracy: 0.690200\n",
      "Epoch 16, CIFAR-10 Batch 4:  Loss:     0.0069 Validation Accuracy: 0.680400\n",
      "Epoch 16, CIFAR-10 Batch 5:  Loss:     0.0027 Validation Accuracy: 0.690800\n",
      "Epoch 17, CIFAR-10 Batch 1:  Loss:     0.0051 Validation Accuracy: 0.713000\n",
      "Epoch 17, CIFAR-10 Batch 2:  Loss:     0.0014 Validation Accuracy: 0.704000\n",
      "Epoch 17, CIFAR-10 Batch 3:  Loss:     0.0024 Validation Accuracy: 0.702800\n",
      "Epoch 17, CIFAR-10 Batch 4:  Loss:     0.0037 Validation Accuracy: 0.698200\n",
      "Epoch 17, CIFAR-10 Batch 5:  Loss:     0.0053 Validation Accuracy: 0.672200\n",
      "Epoch 18, CIFAR-10 Batch 1:  Loss:     0.0096 Validation Accuracy: 0.699400\n",
      "Epoch 18, CIFAR-10 Batch 2:  Loss:     0.0033 Validation Accuracy: 0.681600\n",
      "Epoch 18, CIFAR-10 Batch 3:  Loss:     0.0027 Validation Accuracy: 0.703400\n",
      "Epoch 18, CIFAR-10 Batch 4:  Loss:     0.0022 Validation Accuracy: 0.712600\n",
      "Epoch 18, CIFAR-10 Batch 5:  Loss:     0.0035 Validation Accuracy: 0.695600\n",
      "Epoch 19, CIFAR-10 Batch 1:  Loss:     0.0044 Validation Accuracy: 0.698400\n",
      "Epoch 19, CIFAR-10 Batch 2:  Loss:     0.0017 Validation Accuracy: 0.686400\n",
      "Epoch 19, CIFAR-10 Batch 3:  Loss:     0.0014 Validation Accuracy: 0.695200\n",
      "Epoch 19, CIFAR-10 Batch 4:  Loss:     0.0016 Validation Accuracy: 0.709600\n",
      "Epoch 19, CIFAR-10 Batch 5:  Loss:     0.0023 Validation Accuracy: 0.686600\n",
      "Epoch 20, CIFAR-10 Batch 1:  Loss:     0.0023 Validation Accuracy: 0.669600\n",
      "Epoch 20, CIFAR-10 Batch 2:  Loss:     0.0018 Validation Accuracy: 0.705000\n",
      "Epoch 20, CIFAR-10 Batch 3:  Loss:     0.0005 Validation Accuracy: 0.702600\n",
      "Epoch 20, CIFAR-10 Batch 4:  Loss:     0.0010 Validation Accuracy: 0.704400\n",
      "Epoch 20, CIFAR-10 Batch 5:  Loss:     0.0011 Validation Accuracy: 0.702200\n",
      "Epoch 21, CIFAR-10 Batch 1:  Loss:     0.0012 Validation Accuracy: 0.694000\n",
      "Epoch 21, CIFAR-10 Batch 2:  Loss:     0.0005 Validation Accuracy: 0.706800\n",
      "Epoch 21, CIFAR-10 Batch 3:  Loss:     0.0009 Validation Accuracy: 0.699600\n",
      "Epoch 21, CIFAR-10 Batch 4:  Loss:     0.0005 Validation Accuracy: 0.700200\n",
      "Epoch 21, CIFAR-10 Batch 5:  Loss:     0.0004 Validation Accuracy: 0.714800\n",
      "Epoch 22, CIFAR-10 Batch 1:  Loss:     0.0029 Validation Accuracy: 0.700400\n",
      "Epoch 22, CIFAR-10 Batch 2:  Loss:     0.0006 Validation Accuracy: 0.696200\n",
      "Epoch 22, CIFAR-10 Batch 3:  Loss:     0.0005 Validation Accuracy: 0.706400\n",
      "Epoch 22, CIFAR-10 Batch 4:  Loss:     0.0004 Validation Accuracy: 0.692600\n",
      "Epoch 22, CIFAR-10 Batch 5:  Loss:     0.0011 Validation Accuracy: 0.708000\n",
      "Epoch 23, CIFAR-10 Batch 1:  Loss:     0.0006 Validation Accuracy: 0.710800\n",
      "Epoch 23, CIFAR-10 Batch 2:  Loss:     0.0027 Validation Accuracy: 0.689400\n",
      "Epoch 23, CIFAR-10 Batch 3:  Loss:     0.0002 Validation Accuracy: 0.705000\n",
      "Epoch 23, CIFAR-10 Batch 4:  Loss:     0.0002 Validation Accuracy: 0.701800\n",
      "Epoch 23, CIFAR-10 Batch 5:  Loss:     0.0002 Validation Accuracy: 0.708800\n",
      "Epoch 24, CIFAR-10 Batch 1:  Loss:     0.0003 Validation Accuracy: 0.698400\n",
      "Epoch 24, CIFAR-10 Batch 2:  Loss:     0.0011 Validation Accuracy: 0.707000\n",
      "Epoch 24, CIFAR-10 Batch 3:  Loss:     0.0004 Validation Accuracy: 0.700000\n",
      "Epoch 24, CIFAR-10 Batch 4:  Loss:     0.0009 Validation Accuracy: 0.708800\n",
      "Epoch 24, CIFAR-10 Batch 5:  Loss:     0.0004 Validation Accuracy: 0.702800\n",
      "Epoch 25, CIFAR-10 Batch 1:  Loss:     0.0004 Validation Accuracy: 0.718000\n",
      "Epoch 25, CIFAR-10 Batch 2:  Loss:     0.0003 Validation Accuracy: 0.708800\n",
      "Epoch 25, CIFAR-10 Batch 3:  Loss:     0.0011 Validation Accuracy: 0.683200\n",
      "Epoch 25, CIFAR-10 Batch 4:  Loss:     0.0008 Validation Accuracy: 0.704800\n",
      "Epoch 25, CIFAR-10 Batch 5:  Loss:     0.0004 Validation Accuracy: 0.715200\n",
      "Epoch 26, CIFAR-10 Batch 1:  Loss:     0.0009 Validation Accuracy: 0.704800\n",
      "Epoch 26, CIFAR-10 Batch 2:  Loss:     0.0015 Validation Accuracy: 0.702000\n",
      "Epoch 26, CIFAR-10 Batch 3:  Loss:     0.0009 Validation Accuracy: 0.712400\n",
      "Epoch 26, CIFAR-10 Batch 4:  Loss:     0.0005 Validation Accuracy: 0.709600\n",
      "Epoch 26, CIFAR-10 Batch 5:  Loss:     0.0011 Validation Accuracy: 0.718400\n",
      "Epoch 27, CIFAR-10 Batch 1:  Loss:     0.0025 Validation Accuracy: 0.694400\n",
      "Epoch 27, CIFAR-10 Batch 2:  Loss:     0.0005 Validation Accuracy: 0.701000\n",
      "Epoch 27, CIFAR-10 Batch 3:  Loss:     0.0011 Validation Accuracy: 0.704200\n",
      "Epoch 27, CIFAR-10 Batch 4:  Loss:     0.0004 Validation Accuracy: 0.708800\n",
      "Epoch 27, CIFAR-10 Batch 5:  Loss:     0.0013 Validation Accuracy: 0.705400\n",
      "Epoch 28, CIFAR-10 Batch 1:  Loss:     0.0021 Validation Accuracy: 0.698600\n",
      "Epoch 28, CIFAR-10 Batch 2:  Loss:     0.0008 Validation Accuracy: 0.700600\n",
      "Epoch 28, CIFAR-10 Batch 3:  Loss:     0.0003 Validation Accuracy: 0.705800\n",
      "Epoch 28, CIFAR-10 Batch 4:  Loss:     0.0014 Validation Accuracy: 0.698200\n",
      "Epoch 28, CIFAR-10 Batch 5:  Loss:     0.0005 Validation Accuracy: 0.710400\n",
      "Epoch 29, CIFAR-10 Batch 1:  Loss:     0.0003 Validation Accuracy: 0.702200\n",
      "Epoch 29, CIFAR-10 Batch 2:  Loss:     0.0011 Validation Accuracy: 0.691800\n",
      "Epoch 29, CIFAR-10 Batch 3:  Loss:     0.0011 Validation Accuracy: 0.705800\n",
      "Epoch 29, CIFAR-10 Batch 4:  Loss:     0.0006 Validation Accuracy: 0.694000\n",
      "Epoch 29, CIFAR-10 Batch 5:  Loss:     0.0001 Validation Accuracy: 0.712200\n",
      "Epoch 30, CIFAR-10 Batch 1:  Loss:     0.0013 Validation Accuracy: 0.693000\n",
      "Epoch 30, CIFAR-10 Batch 2:  Loss:     0.0020 Validation Accuracy: 0.684800\n",
      "Epoch 30, CIFAR-10 Batch 3:  Loss:     0.0020 Validation Accuracy: 0.699600\n",
      "Epoch 30, CIFAR-10 Batch 4:  Loss:     0.0008 Validation Accuracy: 0.699600\n",
      "Epoch 30, CIFAR-10 Batch 5:  Loss:     0.0003 Validation Accuracy: 0.711400\n",
      "Epoch 31, CIFAR-10 Batch 1:  Loss:     0.0011 Validation Accuracy: 0.697400\n",
      "Epoch 31, CIFAR-10 Batch 2:  Loss:     0.0004 Validation Accuracy: 0.704600\n",
      "Epoch 31, CIFAR-10 Batch 3:  Loss:     0.0029 Validation Accuracy: 0.675200\n",
      "Epoch 31, CIFAR-10 Batch 4:  Loss:     0.0008 Validation Accuracy: 0.701200\n",
      "Epoch 31, CIFAR-10 Batch 5:  Loss:     0.0001 Validation Accuracy: 0.714400\n",
      "Epoch 32, CIFAR-10 Batch 1:  Loss:     0.0018 Validation Accuracy: 0.681200\n",
      "Epoch 32, CIFAR-10 Batch 2:  Loss:     0.0004 Validation Accuracy: 0.705000\n",
      "Epoch 32, CIFAR-10 Batch 3:  Loss:     0.0016 Validation Accuracy: 0.679400\n",
      "Epoch 32, CIFAR-10 Batch 4:  Loss:     0.0012 Validation Accuracy: 0.699800\n",
      "Epoch 32, CIFAR-10 Batch 5:  Loss:     0.0011 Validation Accuracy: 0.714600\n",
      "Epoch 33, CIFAR-10 Batch 1:  Loss:     0.0003 Validation Accuracy: 0.711800\n",
      "Epoch 33, CIFAR-10 Batch 2:  Loss:     0.0010 Validation Accuracy: 0.705200\n",
      "Epoch 33, CIFAR-10 Batch 3:  Loss:     0.0011 Validation Accuracy: 0.678800\n",
      "Epoch 33, CIFAR-10 Batch 4:  Loss:     0.0005 Validation Accuracy: 0.689200\n",
      "Epoch 33, CIFAR-10 Batch 5:  Loss:     0.0007 Validation Accuracy: 0.707800\n",
      "Epoch 34, CIFAR-10 Batch 1:  Loss:     0.0010 Validation Accuracy: 0.709600\n",
      "Epoch 34, CIFAR-10 Batch 2:  Loss:     0.0005 Validation Accuracy: 0.686400\n",
      "Epoch 34, CIFAR-10 Batch 3:  Loss:     0.0007 Validation Accuracy: 0.692600\n",
      "Epoch 34, CIFAR-10 Batch 4:  Loss:     0.0007 Validation Accuracy: 0.698800\n",
      "Epoch 34, CIFAR-10 Batch 5:  Loss:     0.0001 Validation Accuracy: 0.706400\n",
      "Epoch 35, CIFAR-10 Batch 1:  Loss:     0.0007 Validation Accuracy: 0.695200\n",
      "Epoch 35, CIFAR-10 Batch 2:  Loss:     0.0009 Validation Accuracy: 0.714400\n",
      "Epoch 35, CIFAR-10 Batch 3:  Loss:     0.0006 Validation Accuracy: 0.702200\n",
      "Epoch 35, CIFAR-10 Batch 4:  Loss:     0.0006 Validation Accuracy: 0.700800\n",
      "Epoch 35, CIFAR-10 Batch 5:  Loss:     0.0006 Validation Accuracy: 0.710400\n",
      "Epoch 36, CIFAR-10 Batch 1:  Loss:     0.0003 Validation Accuracy: 0.702200\n",
      "Epoch 36, CIFAR-10 Batch 2:  Loss:     0.0006 Validation Accuracy: 0.706000\n",
      "Epoch 36, CIFAR-10 Batch 3:  Loss:     0.0003 Validation Accuracy: 0.694800\n",
      "Epoch 36, CIFAR-10 Batch 4:  Loss:     0.0013 Validation Accuracy: 0.689800\n",
      "Epoch 36, CIFAR-10 Batch 5:  Loss:     0.0002 Validation Accuracy: 0.702800\n",
      "Epoch 37, CIFAR-10 Batch 1:  Loss:     0.0018 Validation Accuracy: 0.696000\n",
      "Epoch 37, CIFAR-10 Batch 2:  Loss:     0.0002 Validation Accuracy: 0.707600\n",
      "Epoch 37, CIFAR-10 Batch 3:  Loss:     0.0012 Validation Accuracy: 0.703200\n",
      "Epoch 37, CIFAR-10 Batch 4:  Loss:     0.0006 Validation Accuracy: 0.698800\n",
      "Epoch 37, CIFAR-10 Batch 5:  Loss:     0.0005 Validation Accuracy: 0.711200\n",
      "Epoch 38, CIFAR-10 Batch 1:  Loss:     0.0008 Validation Accuracy: 0.701000\n",
      "Epoch 38, CIFAR-10 Batch 2:  Loss:     0.0014 Validation Accuracy: 0.696600\n",
      "Epoch 38, CIFAR-10 Batch 3:  Loss:     0.0003 Validation Accuracy: 0.701200\n",
      "Epoch 38, CIFAR-10 Batch 4:  Loss:     0.0002 Validation Accuracy: 0.701800\n",
      "Epoch 38, CIFAR-10 Batch 5:  Loss:     0.0003 Validation Accuracy: 0.716200\n",
      "Epoch 39, CIFAR-10 Batch 1:  Loss:     0.0008 Validation Accuracy: 0.705000\n",
      "Epoch 39, CIFAR-10 Batch 2:  Loss:     0.0004 Validation Accuracy: 0.705000\n",
      "Epoch 39, CIFAR-10 Batch 3:  Loss:     0.0005 Validation Accuracy: 0.702000\n",
      "Epoch 39, CIFAR-10 Batch 4:  Loss:     0.0009 Validation Accuracy: 0.689800\n",
      "Epoch 39, CIFAR-10 Batch 5:  Loss:     0.0013 Validation Accuracy: 0.703400\n",
      "Epoch 40, CIFAR-10 Batch 1:  Loss:     0.0010 Validation Accuracy: 0.712600\n",
      "Epoch 40, CIFAR-10 Batch 2:  Loss:     0.0006 Validation Accuracy: 0.695200\n",
      "Epoch 40, CIFAR-10 Batch 3:  Loss:     0.0006 Validation Accuracy: 0.702600\n",
      "Epoch 40, CIFAR-10 Batch 4:  Loss:     0.0002 Validation Accuracy: 0.704000\n",
      "Epoch 40, CIFAR-10 Batch 5:  Loss:     0.0005 Validation Accuracy: 0.708800\n",
      "Epoch 41, CIFAR-10 Batch 1:  Loss:     0.0001 Validation Accuracy: 0.710000\n",
      "Epoch 41, CIFAR-10 Batch 2:  Loss:     0.0008 Validation Accuracy: 0.689600\n",
      "Epoch 41, CIFAR-10 Batch 3:  Loss:     0.0001 Validation Accuracy: 0.699800\n",
      "Epoch 41, CIFAR-10 Batch 4:  Loss:     0.0005 Validation Accuracy: 0.680400\n",
      "Epoch 41, CIFAR-10 Batch 5:  Loss:     0.0003 Validation Accuracy: 0.710800\n",
      "Epoch 42, CIFAR-10 Batch 1:  Loss:     0.0004 Validation Accuracy: 0.705200\n",
      "Epoch 42, CIFAR-10 Batch 2:  Loss:     0.0011 Validation Accuracy: 0.702000\n",
      "Epoch 42, CIFAR-10 Batch 3:  Loss:     0.0000 Validation Accuracy: 0.701000\n",
      "Epoch 42, CIFAR-10 Batch 4:  Loss:     0.0003 Validation Accuracy: 0.695200\n",
      "Epoch 42, CIFAR-10 Batch 5:  Loss:     0.0004 Validation Accuracy: 0.707600\n",
      "Epoch 43, CIFAR-10 Batch 1:  Loss:     0.0003 Validation Accuracy: 0.692000\n",
      "Epoch 43, CIFAR-10 Batch 2:  Loss:     0.0011 Validation Accuracy: 0.708600\n",
      "Epoch 43, CIFAR-10 Batch 3:  Loss:     0.0001 Validation Accuracy: 0.700600\n",
      "Epoch 43, CIFAR-10 Batch 4:  Loss:     0.0005 Validation Accuracy: 0.687800\n",
      "Epoch 43, CIFAR-10 Batch 5:  Loss:     0.0003 Validation Accuracy: 0.710800\n",
      "Epoch 44, CIFAR-10 Batch 1:  Loss:     0.0001 Validation Accuracy: 0.707200\n",
      "Epoch 44, CIFAR-10 Batch 2:  Loss:     0.0000 Validation Accuracy: 0.703400\n",
      "Epoch 44, CIFAR-10 Batch 3:  Loss:     0.0003 Validation Accuracy: 0.689000\n",
      "Epoch 44, CIFAR-10 Batch 4:  Loss:     0.0013 Validation Accuracy: 0.679000\n",
      "Epoch 44, CIFAR-10 Batch 5:  Loss:     0.0005 Validation Accuracy: 0.703200\n",
      "Epoch 45, CIFAR-10 Batch 1:  Loss:     0.0003 Validation Accuracy: 0.691600\n",
      "Epoch 45, CIFAR-10 Batch 2:  Loss:     0.0004 Validation Accuracy: 0.706800\n",
      "Epoch 45, CIFAR-10 Batch 3:  Loss:     0.0002 Validation Accuracy: 0.696200\n",
      "Epoch 45, CIFAR-10 Batch 4:  Loss:     0.0003 Validation Accuracy: 0.692800\n",
      "Epoch 45, CIFAR-10 Batch 5:  Loss:     0.0004 Validation Accuracy: 0.687000\n",
      "Epoch 46, CIFAR-10 Batch 1:  Loss:     0.0011 Validation Accuracy: 0.697400\n",
      "Epoch 46, CIFAR-10 Batch 2:  Loss:     0.0002 Validation Accuracy: 0.705000\n",
      "Epoch 46, CIFAR-10 Batch 3:  Loss:     0.0000 Validation Accuracy: 0.704000\n",
      "Epoch 46, CIFAR-10 Batch 4:  Loss:     0.0001 Validation Accuracy: 0.706200\n",
      "Epoch 46, CIFAR-10 Batch 5:  Loss:     0.0001 Validation Accuracy: 0.698000\n",
      "Epoch 47, CIFAR-10 Batch 1:  Loss:     0.0003 Validation Accuracy: 0.711600\n",
      "Epoch 47, CIFAR-10 Batch 2:  Loss:     0.0004 Validation Accuracy: 0.702800\n",
      "Epoch 47, CIFAR-10 Batch 3:  Loss:     0.0001 Validation Accuracy: 0.708600\n",
      "Epoch 47, CIFAR-10 Batch 4:  Loss:     0.0000 Validation Accuracy: 0.704200\n",
      "Epoch 47, CIFAR-10 Batch 5:  Loss:     0.0001 Validation Accuracy: 0.705200\n",
      "Epoch 48, CIFAR-10 Batch 1:  Loss:     0.0001 Validation Accuracy: 0.703200\n",
      "Epoch 48, CIFAR-10 Batch 2:  Loss:     0.0004 Validation Accuracy: 0.720600\n",
      "Epoch 48, CIFAR-10 Batch 3:  Loss:     0.0000 Validation Accuracy: 0.698800\n",
      "Epoch 48, CIFAR-10 Batch 4:  Loss:     0.0001 Validation Accuracy: 0.701600\n",
      "Epoch 48, CIFAR-10 Batch 5:  Loss:     0.0000 Validation Accuracy: 0.712600\n",
      "Epoch 49, CIFAR-10 Batch 1:  Loss:     0.0006 Validation Accuracy: 0.710000\n",
      "Epoch 49, CIFAR-10 Batch 2:  Loss:     0.0005 Validation Accuracy: 0.710600\n",
      "Epoch 49, CIFAR-10 Batch 3:  Loss:     0.0000 Validation Accuracy: 0.704600\n",
      "Epoch 49, CIFAR-10 Batch 4:  Loss:     0.0012 Validation Accuracy: 0.689800\n",
      "Epoch 49, CIFAR-10 Batch 5:  Loss:     0.0009 Validation Accuracy: 0.702200\n",
      "Epoch 50, CIFAR-10 Batch 1:  Loss:     0.0005 Validation Accuracy: 0.708400\n",
      "Epoch 50, CIFAR-10 Batch 2:  Loss:     0.0009 Validation Accuracy: 0.701600\n",
      "Epoch 50, CIFAR-10 Batch 3:  Loss:     0.0004 Validation Accuracy: 0.694000\n",
      "Epoch 50, CIFAR-10 Batch 4:  Loss:     0.0005 Validation Accuracy: 0.696000\n",
      "Epoch 50, CIFAR-10 Batch 5:  Loss:     0.0002 Validation Accuracy: 0.702000\n",
      "Epoch 51, CIFAR-10 Batch 1:  Loss:     0.0001 Validation Accuracy: 0.715000\n",
      "Epoch 51, CIFAR-10 Batch 2:  Loss:     0.0000 Validation Accuracy: 0.704600\n",
      "Epoch 51, CIFAR-10 Batch 3:  Loss:     0.0001 Validation Accuracy: 0.704600\n",
      "Epoch 51, CIFAR-10 Batch 4:  Loss:     0.0005 Validation Accuracy: 0.695400\n",
      "Epoch 51, CIFAR-10 Batch 5:  Loss:     0.0001 Validation Accuracy: 0.701400\n",
      "Epoch 52, CIFAR-10 Batch 1:  Loss:     0.0004 Validation Accuracy: 0.696600\n",
      "Epoch 52, CIFAR-10 Batch 2:  Loss:     0.0001 Validation Accuracy: 0.712200\n",
      "Epoch 52, CIFAR-10 Batch 3:  Loss:     0.0001 Validation Accuracy: 0.705600\n",
      "Epoch 52, CIFAR-10 Batch 4:  Loss:     0.0016 Validation Accuracy: 0.690000\n",
      "Epoch 52, CIFAR-10 Batch 5:  Loss:     0.0005 Validation Accuracy: 0.706200\n",
      "Epoch 53, CIFAR-10 Batch 1:  Loss:     0.0000 Validation Accuracy: 0.711200\n",
      "Epoch 53, CIFAR-10 Batch 2:  Loss:     0.0004 Validation Accuracy: 0.717400\n",
      "Epoch 53, CIFAR-10 Batch 3:  Loss:     0.0002 Validation Accuracy: 0.710000\n",
      "Epoch 53, CIFAR-10 Batch 4:  Loss:     0.0000 Validation Accuracy: 0.709800\n",
      "Epoch 53, CIFAR-10 Batch 5:  Loss:     0.0000 Validation Accuracy: 0.710400\n",
      "Epoch 54, CIFAR-10 Batch 1:  Loss:     0.0004 Validation Accuracy: 0.707200\n",
      "Epoch 54, CIFAR-10 Batch 2:  Loss:     0.0002 Validation Accuracy: 0.704200\n",
      "Epoch 54, CIFAR-10 Batch 3:  Loss:     0.0000 Validation Accuracy: 0.708400\n",
      "Epoch 54, CIFAR-10 Batch 4:  Loss:     0.0001 Validation Accuracy: 0.705000\n",
      "Epoch 54, CIFAR-10 Batch 5:  Loss:     0.0001 Validation Accuracy: 0.718400\n",
      "Epoch 55, CIFAR-10 Batch 1:  Loss:     0.0001 Validation Accuracy: 0.713400\n",
      "Epoch 55, CIFAR-10 Batch 2:  Loss:     0.0005 Validation Accuracy: 0.708200\n",
      "Epoch 55, CIFAR-10 Batch 3:  Loss:     0.0001 Validation Accuracy: 0.703200\n",
      "Epoch 55, CIFAR-10 Batch 4:  Loss:     0.0001 Validation Accuracy: 0.700600\n",
      "Epoch 55, CIFAR-10 Batch 5:  Loss:     0.0001 Validation Accuracy: 0.716400\n",
      "Epoch 56, CIFAR-10 Batch 1:  Loss:     0.0001 Validation Accuracy: 0.712400\n",
      "Epoch 56, CIFAR-10 Batch 2:  Loss:     0.0007 Validation Accuracy: 0.708800\n",
      "Epoch 56, CIFAR-10 Batch 3:  Loss:     0.0005 Validation Accuracy: 0.708400\n",
      "Epoch 56, CIFAR-10 Batch 4:  Loss:     0.0002 Validation Accuracy: 0.702400\n",
      "Epoch 56, CIFAR-10 Batch 5:  Loss:     0.0005 Validation Accuracy: 0.704400\n",
      "Epoch 57, CIFAR-10 Batch 1:  Loss:     0.0006 Validation Accuracy: 0.713600\n",
      "Epoch 57, CIFAR-10 Batch 2:  Loss:     0.0000 Validation Accuracy: 0.717200\n",
      "Epoch 57, CIFAR-10 Batch 3:  Loss:     0.0001 Validation Accuracy: 0.712600\n",
      "Epoch 57, CIFAR-10 Batch 4:  Loss:     0.0001 Validation Accuracy: 0.696600\n",
      "Epoch 57, CIFAR-10 Batch 5:  Loss:     0.0004 Validation Accuracy: 0.717600\n",
      "Epoch 58, CIFAR-10 Batch 1:  Loss:     0.0002 Validation Accuracy: 0.708400\n",
      "Epoch 58, CIFAR-10 Batch 2:  Loss:     0.0002 Validation Accuracy: 0.712200\n",
      "Epoch 58, CIFAR-10 Batch 3:  Loss:     0.0000 Validation Accuracy: 0.709600\n",
      "Epoch 58, CIFAR-10 Batch 4:  Loss:     0.0000 Validation Accuracy: 0.692200\n",
      "Epoch 58, CIFAR-10 Batch 5:  Loss:     0.0006 Validation Accuracy: 0.702800\n",
      "Epoch 59, CIFAR-10 Batch 1:  Loss:     0.0015 Validation Accuracy: 0.709600\n",
      "Epoch 59, CIFAR-10 Batch 2:  Loss:     0.0001 Validation Accuracy: 0.707200\n",
      "Epoch 59, CIFAR-10 Batch 3:  Loss:     0.0001 Validation Accuracy: 0.710800\n",
      "Epoch 59, CIFAR-10 Batch 4:  Loss:     0.0000 Validation Accuracy: 0.711600\n",
      "Epoch 59, CIFAR-10 Batch 5:  Loss:     0.0001 Validation Accuracy: 0.706000\n",
      "Epoch 60, CIFAR-10 Batch 1:  Loss:     0.0000 Validation Accuracy: 0.715000\n",
      "Epoch 60, CIFAR-10 Batch 2:  Loss:     0.0002 Validation Accuracy: 0.712800\n",
      "Epoch 60, CIFAR-10 Batch 3:  Loss:     0.0003 Validation Accuracy: 0.715400\n",
      "Epoch 60, CIFAR-10 Batch 4:  Loss:     0.0001 Validation Accuracy: 0.694400\n",
      "Epoch 60, CIFAR-10 Batch 5:  Loss:     0.0001 Validation Accuracy: 0.698800\n",
      "Epoch 61, CIFAR-10 Batch 1:  Loss:     0.0002 Validation Accuracy: 0.709200\n",
      "Epoch 61, CIFAR-10 Batch 2:  Loss:     0.0001 Validation Accuracy: 0.707200\n",
      "Epoch 61, CIFAR-10 Batch 3:  Loss:     0.0001 Validation Accuracy: 0.716400\n",
      "Epoch 61, CIFAR-10 Batch 4:  Loss:     0.0000 Validation Accuracy: 0.701800\n",
      "Epoch 61, CIFAR-10 Batch 5:  Loss:     0.0000 Validation Accuracy: 0.703400\n",
      "Epoch 62, CIFAR-10 Batch 1:  Loss:     0.0005 Validation Accuracy: 0.707600\n",
      "Epoch 62, CIFAR-10 Batch 2:  Loss:     0.0001 Validation Accuracy: 0.713600\n",
      "Epoch 62, CIFAR-10 Batch 3:  Loss:     0.0000 Validation Accuracy: 0.709600\n",
      "Epoch 62, CIFAR-10 Batch 4:  Loss:     0.0002 Validation Accuracy: 0.710800\n",
      "Epoch 62, CIFAR-10 Batch 5:  Loss:     0.0002 Validation Accuracy: 0.711400\n",
      "Epoch 63, CIFAR-10 Batch 1:  Loss:     0.0002 Validation Accuracy: 0.702000\n",
      "Epoch 63, CIFAR-10 Batch 2:  Loss:     0.0001 Validation Accuracy: 0.707000\n",
      "Epoch 63, CIFAR-10 Batch 3:  Loss:     0.0000 Validation Accuracy: 0.706200\n",
      "Epoch 63, CIFAR-10 Batch 4:  Loss:     0.0002 Validation Accuracy: 0.694800\n",
      "Epoch 63, CIFAR-10 Batch 5:  Loss:     0.0003 Validation Accuracy: 0.708800\n",
      "Epoch 64, CIFAR-10 Batch 1:  Loss:     0.0000 Validation Accuracy: 0.718400\n",
      "Epoch 64, CIFAR-10 Batch 2:  Loss:     0.0000 Validation Accuracy: 0.714800\n",
      "Epoch 64, CIFAR-10 Batch 3:  Loss:     0.0005 Validation Accuracy: 0.715600\n",
      "Epoch 64, CIFAR-10 Batch 4:  Loss:     0.0001 Validation Accuracy: 0.710000\n",
      "Epoch 64, CIFAR-10 Batch 5:  Loss:     0.0002 Validation Accuracy: 0.709200\n",
      "Epoch 65, CIFAR-10 Batch 1:  Loss:     0.0003 Validation Accuracy: 0.703200\n",
      "Epoch 65, CIFAR-10 Batch 2:  Loss:     0.0003 Validation Accuracy: 0.708200\n",
      "Epoch 65, CIFAR-10 Batch 3:  Loss:     0.0002 Validation Accuracy: 0.713800\n",
      "Epoch 65, CIFAR-10 Batch 4:  Loss:     0.0001 Validation Accuracy: 0.715000\n",
      "Epoch 65, CIFAR-10 Batch 5:  Loss:     0.0001 Validation Accuracy: 0.717800\n",
      "Epoch 66, CIFAR-10 Batch 1:  Loss:     0.0003 Validation Accuracy: 0.710200\n",
      "Epoch 66, CIFAR-10 Batch 2:  Loss:     0.0000 Validation Accuracy: 0.706400\n",
      "Epoch 66, CIFAR-10 Batch 3:  Loss:     0.0001 Validation Accuracy: 0.714000\n",
      "Epoch 66, CIFAR-10 Batch 4:  Loss:     0.0000 Validation Accuracy: 0.712000\n",
      "Epoch 66, CIFAR-10 Batch 5:  Loss:     0.0001 Validation Accuracy: 0.706400\n",
      "Epoch 67, CIFAR-10 Batch 1:  Loss:     0.0002 Validation Accuracy: 0.713400\n",
      "Epoch 67, CIFAR-10 Batch 2:  Loss:     0.0000 Validation Accuracy: 0.708600\n",
      "Epoch 67, CIFAR-10 Batch 3:  Loss:     0.0004 Validation Accuracy: 0.694800\n",
      "Epoch 67, CIFAR-10 Batch 4:  Loss:     0.0000 Validation Accuracy: 0.714600\n",
      "Epoch 67, CIFAR-10 Batch 5:  Loss:     0.0004 Validation Accuracy: 0.709200\n",
      "Epoch 68, CIFAR-10 Batch 1:  Loss:     0.0000 Validation Accuracy: 0.709000\n",
      "Epoch 68, CIFAR-10 Batch 2:  Loss:     0.0002 Validation Accuracy: 0.709000\n",
      "Epoch 68, CIFAR-10 Batch 3:  Loss:     0.0004 Validation Accuracy: 0.708400\n",
      "Epoch 68, CIFAR-10 Batch 4:  Loss:     0.0000 Validation Accuracy: 0.710800\n",
      "Epoch 68, CIFAR-10 Batch 5:  Loss:     0.0000 Validation Accuracy: 0.708600\n",
      "Epoch 69, CIFAR-10 Batch 1:  Loss:     0.0001 Validation Accuracy: 0.704800\n",
      "Epoch 69, CIFAR-10 Batch 2:  Loss:     0.0003 Validation Accuracy: 0.704000\n",
      "Epoch 69, CIFAR-10 Batch 3:  Loss:     0.0000 Validation Accuracy: 0.714600\n",
      "Epoch 69, CIFAR-10 Batch 4:  Loss:     0.0000 Validation Accuracy: 0.715200\n",
      "Epoch 69, CIFAR-10 Batch 5:  Loss:     0.0000 Validation Accuracy: 0.723800\n",
      "Epoch 70, CIFAR-10 Batch 1:  Loss:     0.0001 Validation Accuracy: 0.714400\n",
      "Epoch 70, CIFAR-10 Batch 2:  Loss:     0.0000 Validation Accuracy: 0.714600\n",
      "Epoch 70, CIFAR-10 Batch 3:  Loss:     0.0001 Validation Accuracy: 0.712200\n",
      "Epoch 70, CIFAR-10 Batch 4:  Loss:     0.0000 Validation Accuracy: 0.713400\n",
      "Epoch 70, CIFAR-10 Batch 5:  Loss:     0.0001 Validation Accuracy: 0.710000\n",
      "Epoch 71, CIFAR-10 Batch 1:  Loss:     0.0001 Validation Accuracy: 0.722000\n",
      "Epoch 71, CIFAR-10 Batch 2:  Loss:     0.0001 Validation Accuracy: 0.716400\n",
      "Epoch 71, CIFAR-10 Batch 3:  Loss:     0.0006 Validation Accuracy: 0.708000\n",
      "Epoch 71, CIFAR-10 Batch 4:  Loss:     0.0000 Validation Accuracy: 0.718600\n",
      "Epoch 71, CIFAR-10 Batch 5:  Loss:     0.0000 Validation Accuracy: 0.723800\n",
      "Epoch 72, CIFAR-10 Batch 1:  Loss:     0.0004 Validation Accuracy: 0.721200\n",
      "Epoch 72, CIFAR-10 Batch 2:  Loss:     0.0004 Validation Accuracy: 0.721800\n",
      "Epoch 72, CIFAR-10 Batch 3:  Loss:     0.0004 Validation Accuracy: 0.706000\n",
      "Epoch 72, CIFAR-10 Batch 4:  Loss:     0.0005 Validation Accuracy: 0.706400\n",
      "Epoch 72, CIFAR-10 Batch 5:  Loss:     0.0002 Validation Accuracy: 0.715200\n",
      "Epoch 73, CIFAR-10 Batch 1:  Loss:     0.0001 Validation Accuracy: 0.724600\n",
      "Epoch 73, CIFAR-10 Batch 2:  Loss:     0.0002 Validation Accuracy: 0.708000\n",
      "Epoch 73, CIFAR-10 Batch 3:  Loss:     0.0003 Validation Accuracy: 0.696600\n",
      "Epoch 73, CIFAR-10 Batch 4:  Loss:     0.0001 Validation Accuracy: 0.696800\n",
      "Epoch 73, CIFAR-10 Batch 5:  Loss:     0.0000 Validation Accuracy: 0.708200\n",
      "Epoch 74, CIFAR-10 Batch 1:  Loss:     0.0002 Validation Accuracy: 0.704000\n",
      "Epoch 74, CIFAR-10 Batch 2:  Loss:     0.0004 Validation Accuracy: 0.712600\n",
      "Epoch 74, CIFAR-10 Batch 3:  Loss:     0.0001 Validation Accuracy: 0.712800\n",
      "Epoch 74, CIFAR-10 Batch 4:  Loss:     0.0000 Validation Accuracy: 0.706400\n",
      "Epoch 74, CIFAR-10 Batch 5:  Loss:     0.0001 Validation Accuracy: 0.715800\n",
      "Epoch 75, CIFAR-10 Batch 1:  Loss:     0.0002 Validation Accuracy: 0.711600\n",
      "Epoch 75, CIFAR-10 Batch 2:  Loss:     0.0000 Validation Accuracy: 0.700600\n",
      "Epoch 75, CIFAR-10 Batch 3:  Loss:     0.0001 Validation Accuracy: 0.718200\n",
      "Epoch 75, CIFAR-10 Batch 4:  Loss:     0.0000 Validation Accuracy: 0.712800\n",
      "Epoch 75, CIFAR-10 Batch 5:  Loss:     0.0005 Validation Accuracy: 0.701200\n",
      "Epoch 76, CIFAR-10 Batch 1:  Loss:     0.0000 Validation Accuracy: 0.719800\n",
      "Epoch 76, CIFAR-10 Batch 2:  Loss:     0.0001 Validation Accuracy: 0.714800\n",
      "Epoch 76, CIFAR-10 Batch 3:  Loss:     0.0001 Validation Accuracy: 0.711200\n",
      "Epoch 76, CIFAR-10 Batch 4:  Loss:     0.0000 Validation Accuracy: 0.704000\n",
      "Epoch 76, CIFAR-10 Batch 5:  Loss:     0.0000 Validation Accuracy: 0.722200\n",
      "Epoch 77, CIFAR-10 Batch 1:  Loss:     0.0000 Validation Accuracy: 0.723600\n",
      "Epoch 77, CIFAR-10 Batch 2:  Loss:     0.0001 Validation Accuracy: 0.714000\n",
      "Epoch 77, CIFAR-10 Batch 3:  Loss:     0.0000 Validation Accuracy: 0.714800\n",
      "Epoch 77, CIFAR-10 Batch 4:  Loss:     0.0000 Validation Accuracy: 0.702000\n",
      "Epoch 77, CIFAR-10 Batch 5:  Loss:     0.0000 Validation Accuracy: 0.720400\n",
      "Epoch 78, CIFAR-10 Batch 1:  Loss:     0.0001 Validation Accuracy: 0.718200\n",
      "Epoch 78, CIFAR-10 Batch 2:  Loss:     0.0003 Validation Accuracy: 0.722600\n",
      "Epoch 78, CIFAR-10 Batch 3:  Loss:     0.0001 Validation Accuracy: 0.719600\n",
      "Epoch 78, CIFAR-10 Batch 4:  Loss:     0.0000 Validation Accuracy: 0.712800\n",
      "Epoch 78, CIFAR-10 Batch 5:  Loss:     0.0002 Validation Accuracy: 0.718800\n",
      "Epoch 79, CIFAR-10 Batch 1:  Loss:     0.0000 Validation Accuracy: 0.721000\n",
      "Epoch 79, CIFAR-10 Batch 2:  Loss:     0.0000 Validation Accuracy: 0.719600\n",
      "Epoch 79, CIFAR-10 Batch 3:  Loss:     0.0000 Validation Accuracy: 0.720800\n",
      "Epoch 79, CIFAR-10 Batch 4:  Loss:     0.0003 Validation Accuracy: 0.726600\n",
      "Epoch 79, CIFAR-10 Batch 5:  Loss:     0.0003 Validation Accuracy: 0.721000\n",
      "Epoch 80, CIFAR-10 Batch 1:  Loss:     0.0000 Validation Accuracy: 0.728600\n",
      "Epoch 80, CIFAR-10 Batch 2:  Loss:     0.0001 Validation Accuracy: 0.724400\n",
      "Epoch 80, CIFAR-10 Batch 3:  Loss:     0.0001 Validation Accuracy: 0.723400\n",
      "Epoch 80, CIFAR-10 Batch 4:  Loss:     0.0003 Validation Accuracy: 0.711000\n",
      "Epoch 80, CIFAR-10 Batch 5:  Loss:     0.0000 Validation Accuracy: 0.715400\n"
     ]
    }
   ],
   "source": [
    "\"\"\"\n",
    "DON'T MODIFY ANYTHING IN THIS CELL\n",
    "\"\"\"\n",
    "save_model_path = './image_classification'\n",
    "\n",
    "print('Training...')\n",
    "with tf.Session() as sess:\n",
    "    # Initializing the variables\n",
    "    sess.run(tf.global_variables_initializer())\n",
    "    \n",
    "    # Training cycle\n",
    "    for epoch in range(epochs):\n",
    "        # Loop over all batches\n",
    "        n_batches = 5\n",
    "        for batch_i in range(1, n_batches + 1):\n",
    "            for batch_features, batch_labels in helper.load_preprocess_training_batch(batch_i, batch_size):\n",
    "                train_neural_network(sess, optimizer, keep_probability, batch_features, batch_labels)\n",
    "            print('Epoch {:>2}, CIFAR-10 Batch {}:  '.format(epoch + 1, batch_i), end='')\n",
    "            print_stats(sess, batch_features, batch_labels, cost, accuracy)\n",
    "            \n",
    "    # Save Model\n",
    "    saver = tf.train.Saver()\n",
    "    save_path = saver.save(sess, save_model_path)"
   ]
  },
  {
   "cell_type": "markdown",
   "metadata": {
    "deletable": true,
    "editable": true
   },
   "source": [
    "# Checkpoint\n",
    "The model has been saved to disk.\n",
    "## Test Model\n",
    "Test your model against the test dataset.  This will be your final accuracy. You should have an accuracy greater than 50%. If you don't, keep tweaking the model architecture and parameters."
   ]
  },
  {
   "cell_type": "code",
   "execution_count": 121,
   "metadata": {
    "collapsed": false,
    "deletable": true,
    "editable": true
   },
   "outputs": [
    {
     "name": "stdout",
     "output_type": "stream",
     "text": [
      "Testing Accuracy: 0.69736328125\n",
      "\n"
     ]
    },
    {
     "data": {
      "image/png": "[encoded data removed]",
      "text/plain": [
       "<matplotlib.figure.Figure at 0x7ff0a2a40a20>"
      ]
     },
     "metadata": {
      "image/png": {
       "height": 319,
       "width": 355
      }
     },
     "output_type": "display_data"
    }
   ],
   "source": [
    "\"\"\"\n",
    "DON'T MODIFY ANYTHING IN THIS CELL\n",
    "\"\"\"\n",
    "%matplotlib inline\n",
    "%config InlineBackend.figure_format = 'retina'\n",
    "\n",
    "import tensorflow as tf\n",
    "import pickle\n",
    "import helper\n",
    "import random\n",
    "\n",
    "# Set batch size if not already set\n",
    "try:\n",
    "    if batch_size:\n",
    "        pass\n",
    "except NameError:\n",
    "    batch_size = 64\n",
    "\n",
    "save_model_path = './image_classification'\n",
    "n_samples = 4\n",
    "top_n_predictions = 3\n",
    "\n",
    "def test_model():\n",
    "    \"\"\"\n",
    "    Test the saved model against the test dataset\n",
    "    \"\"\"\n",
    "\n",
    "    test_features, test_labels = pickle.load(open('preprocess_test.p', mode='rb'))\n",
    "    loaded_graph = tf.Graph()\n",
    "\n",
    "    with tf.Session(graph=loaded_graph) as sess:\n",
    "        # Load model\n",
    "        loader = tf.train.import_meta_graph(save_model_path + '.meta')\n",
    "        loader.restore(sess, save_model_path)\n",
    "\n",
    "        # Get Tensors from loaded model\n",
    "        loaded_x = loaded_graph.get_tensor_by_name('x:0')\n",
    "        loaded_y = loaded_graph.get_tensor_by_name('y:0')\n",
    "        loaded_keep_prob = loaded_graph.get_tensor_by_name('keep_prob:0')\n",
    "        loaded_logits = loaded_graph.get_tensor_by_name('logits:0')\n",
    "        loaded_acc = loaded_graph.get_tensor_by_name('accuracy:0')\n",
    "        \n",
    "        # Get accuracy in batches for memory limitations\n",
    "        test_batch_acc_total = 0\n",
    "        test_batch_count = 0\n",
    "        \n",
    "        for test_feature_batch, test_label_batch in helper.batch_features_labels(test_features, test_labels, batch_size):\n",
    "            test_batch_acc_total += sess.run(\n",
    "                loaded_acc,\n",
    "                feed_dict={loaded_x: test_feature_batch, loaded_y: test_label_batch, loaded_keep_prob: 1.0})\n",
    "            test_batch_count += 1\n",
    "\n",
    "        print('Testing Accuracy: {}\\n'.format(test_batch_acc_total/test_batch_count))\n",
    "\n",
    "        # Print Random Samples\n",
    "        random_test_features, random_test_labels = tuple(zip(*random.sample(list(zip(test_features, test_labels)), n_samples)))\n",
    "        random_test_predictions = sess.run(\n",
    "            tf.nn.top_k(tf.nn.softmax(loaded_logits), top_n_predictions),\n",
    "            feed_dict={loaded_x: random_test_features, loaded_y: random_test_labels, loaded_keep_prob: 1.0})\n",
    "        helper.display_image_predictions(random_test_features, random_test_labels, random_test_predictions)\n",
    "\n",
    "\n",
    "test_model()"
   ]
  },
  {
   "cell_type": "markdown",
   "metadata": {
    "deletable": true,
    "editable": true
   },
   "source": [
    "## Why 50-80% Accuracy?\n",
    "You might be wondering why you can't get an accuracy any higher. First things first, 50% isn't bad for a simple CNN.  Pure guessing would get you 10% accuracy. However, you might notice people are getting scores [well above 80%](http://rodrigob.github.io/are_we_there_yet/build/classification_datasets_results.html#43494641522d3130).  That's because we haven't taught you all there is to know about neural networks. We still need to cover a few more techniques.\n",
    "## Submitting This Project\n",
    "When submitting this project, make sure to run all the cells before saving the notebook.  Save the notebook file as \"dlnd_image_classification.ipynb\" and save it as a HTML file under \"File\" -> \"Download as\".  Include the \"helper.py\" and \"problem_unittests.py\" files in your submission."
   ]
  }
 ],
 "metadata": {
  "kernelspec": {
   "display_name": "Python 3",
   "language": "python",
   "name": "python3"
  },
  "language_info": {
   "codemirror_mode": {
    "name": "ipython",
    "version": 3
   },
   "file_extension": ".py",
   "mimetype": "text/x-python",
   "name": "python",
   "nbconvert_exporter": "python",
   "pygments_lexer": "ipython3",
   "version": "3.5.3"
  }
 },
 "nbformat": 4,
 "nbformat_minor": 1
}
