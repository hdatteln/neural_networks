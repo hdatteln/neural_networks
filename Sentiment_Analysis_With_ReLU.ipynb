{
 "cells": [
  {
   "cell_type": "markdown",
   "metadata": {},
   "source": [
    "# Sentiment classification of TV reviews using ReLU  \n",
    "Sentiment analysis of \"[Tatort](https://en.wikipedia.org/wiki/Tatort)\" Reviews.  \n",
    "Data source: Facebook comments pulled from weekly 'poll' postings on the 'dasErste' FB page.\n",
    "\n",
    "1 = positive review  \n",
    "2 = negative review\n",
    "\n",
    "## Import and review the data"
   ]
  },
  {
   "cell_type": "code",
   "execution_count": 154,
   "metadata": {},
   "outputs": [
    {
     "name": "stdout",
     "output_type": "stream",
     "text": [
      "Number of training reviews:  2257\n",
      "Number of new reviews:  257\n"
     ]
    },
    {
     "data": {
      "text/html": [
       "<div>\n",
       "<table border=\"1\" class=\"dataframe\">\n",
       "  <thead>\n",
       "    <tr style=\"text-align: right;\">\n",
       "      <th></th>\n",
       "      <th>Review</th>\n",
       "      <th>Evalu</th>\n",
       "    </tr>\n",
       "  </thead>\n",
       "  <tbody>\n",
       "    <tr>\n",
       "      <th>0</th>\n",
       "      <td>schlechteste ever 😣</td>\n",
       "      <td>0</td>\n",
       "    </tr>\n",
       "    <tr>\n",
       "      <th>1</th>\n",
       "      <td>6 absolut kein thema mehr</td>\n",
       "      <td>0</td>\n",
       "    </tr>\n",
       "    <tr>\n",
       "      <th>2</th>\n",
       "      <td>ein sehr guter tatort (y), das franken-team so...</td>\n",
       "      <td>1</td>\n",
       "    </tr>\n",
       "    <tr>\n",
       "      <th>3</th>\n",
       "      <td>absolute 6!</td>\n",
       "      <td>0</td>\n",
       "    </tr>\n",
       "    <tr>\n",
       "      <th>4</th>\n",
       "      <td>kann nicht mitreden. \"x-men: apocalypse\" auf s...</td>\n",
       "      <td>0</td>\n",
       "    </tr>\n",
       "  </tbody>\n",
       "</table>\n",
       "</div>"
      ],
      "text/plain": [
       "                                              Review  Evalu\n",
       "0                                schlechteste ever 😣      0\n",
       "1                          6 absolut kein thema mehr      0\n",
       "2  ein sehr guter tatort (y), das franken-team so...      1\n",
       "3                                        absolute 6!      0\n",
       "4  kann nicht mitreden. \"x-men: apocalypse\" auf s...      0"
      ]
     },
     "execution_count": 154,
     "metadata": {},
     "output_type": "execute_result"
    }
   ],
   "source": [
    "import pandas as pd\n",
    "import numpy as np\n",
    "import tensorflow as tf\n",
    "import tflearn\n",
    "from tflearn.data_utils import to_categorical, pad_sequences\n",
    "import matplotlib.pyplot as plt\n",
    "\n",
    "tatortreviews = pd.read_csv('data/tatort_reviews_labeled.csv')\n",
    "print(\"Number of training reviews: \", len(tatortreviews))\n",
    "\n",
    "tatortreviews_new = pd.read_csv('data/tatort_reviews_new.csv')\n",
    "print(\"Number of new reviews: \", len(tatortreviews_new))\n",
    "\n",
    "tatortreviews.head()"
   ]
  },
  {
   "cell_type": "code",
   "execution_count": 155,
   "metadata": {
    "collapsed": true
   },
   "outputs": [],
   "source": [
    "reviews = tatortreviews['Review']\n",
    "labels = tatortreviews['Evalu']\n",
    "\n",
    "new_reviews = tatortreviews_new['Review']"
   ]
  },
  {
   "cell_type": "code",
   "execution_count": 156,
   "metadata": {},
   "outputs": [
    {
     "data": {
      "text/plain": [
       "[<matplotlib.lines.Line2D at 0x11ce4aef0>]"
      ]
     },
     "execution_count": 156,
     "metadata": {},
     "output_type": "execute_result"
    },
    {
     "data": {
      "image/png": "[encoded data removed]",
      "text/plain": [
       "<matplotlib.figure.Figure at 0x12d84c550>"
      ]
     },
     "metadata": {},
     "output_type": "display_data"
    }
   ],
   "source": [
    "%matplotlib inline\n",
    "\n",
    "review_lengths = []\n",
    "for review in reviews:\n",
    "    review_lengths.append(len(review.split(' ')))\n",
    "plt.figure()\n",
    "plt.title('Review Length')\n",
    "plt.plot(sorted(review_lengths))"
   ]
  },
  {
   "cell_type": "markdown",
   "metadata": {},
   "source": [
    "#### Bag of Words"
   ]
  },
  {
   "cell_type": "code",
   "execution_count": 157,
   "metadata": {},
   "outputs": [
    {
     "name": "stdout",
     "output_type": "stream",
     "text": [
      "Total word count:  6393\n"
     ]
    }
   ],
   "source": [
    "from collections import Counter\n",
    "\n",
    "total_wordcount = Counter()\n",
    "\n",
    "for row in reviews:\n",
    "    total_wordcount.update(row.split(\" \"))\n",
    "    \n",
    "print(\"Total word count: \", len(total_wordcount))"
   ]
  },
  {
   "cell_type": "code",
   "execution_count": 158,
   "metadata": {},
   "outputs": [
    {
     "name": "stdout",
     "output_type": "stream",
     "text": [
      "Num of words:  6350\n",
      "mir\n",
      "so\n",
      "auch\n",
      "in\n",
      "note\n",
      "hat\n",
      "ist\n",
      "von\n",
      "super\n",
      "für\n"
     ]
    }
   ],
   "source": [
    "vocabulary = sorted(total_wordcount, key=total_wordcount.get, reverse=True)[:6370]\n",
    "vocabulary = vocabulary[20:]\n",
    "    \n",
    "print(\"Num of words: \", len(vocabulary))\n",
    "for x in range(0, 10):\n",
    "    print(vocabulary[x])"
   ]
  },
  {
   "cell_type": "code",
   "execution_count": 159,
   "metadata": {},
   "outputs": [
    {
     "name": "stdout",
     "output_type": "stream",
     "text": [
      "13\n",
      "1501\n"
     ]
    }
   ],
   "source": [
    "wordindex = {word: i for i, word in enumerate(vocabulary)}\n",
    "\n",
    "print(wordindex.get('spannend'))\n",
    "print(wordindex.get('doof'))"
   ]
  },
  {
   "cell_type": "markdown",
   "metadata": {},
   "source": [
    "## Mapping text to vector"
   ]
  },
  {
   "cell_type": "code",
   "execution_count": 160,
   "metadata": {
    "collapsed": true
   },
   "outputs": [],
   "source": [
    "def text_to_vector(text):\n",
    "    word_vector = np.zeros(len(vocabulary), dtype = np.int_)\n",
    "    for word in text.split(' '):\n",
    "        idx = wordindex.get(word, None)\n",
    "        if idx is None:\n",
    "            continue\n",
    "        else:\n",
    "            word_vector[idx] += 1\n",
    "    return np.array(word_vector)\n",
    " \n",
    "word_vectors = np.zeros((len(reviews), len(vocabulary)), dtype=np.int_)    \n",
    "for ii, text in enumerate(reviews):\n",
    "    word_vectors[ii] = text_to_vector(text)"
   ]
  },
  {
   "cell_type": "markdown",
   "metadata": {},
   "source": [
    "### Split data into Train, Validation, Test sets"
   ]
  },
  {
   "cell_type": "code",
   "execution_count": 161,
   "metadata": {
    "collapsed": true
   },
   "outputs": [],
   "source": [
    "#from sklearn.model_selection import train_test_split\n",
    "#X_train, X_test, Y_train, Y_test = train_test_split(reviews, labels, test_size=0.1, random_state=666)\n",
    "\n",
    "#print(len(X_train))\n",
    "#print(len(Y_train))\n",
    "\n",
    "Y = labels\n",
    "records = len(labels)\n",
    "\n",
    "shuffle = np.arange(records)\n",
    "np.random.shuffle(shuffle)\n",
    "test_fraction = 0.9\n",
    "\n",
    "train_split, test_split = shuffle[:int(records*test_fraction)], shuffle[int(records*test_fraction):]\n",
    "X_train, Y_train = word_vectors[train_split], to_categorical(Y.values[train_split], 2)\n",
    "X_test, Y_test = word_vectors[test_split], to_categorical(Y.values[test_split], 2)"
   ]
  },
  {
   "cell_type": "markdown",
   "metadata": {},
   "source": [
    "## Building the network"
   ]
  },
  {
   "cell_type": "code",
   "execution_count": 162,
   "metadata": {
    "collapsed": true
   },
   "outputs": [],
   "source": [
    "def build_network_model():\n",
    "    tf.reset_default_graph()\n",
    "    \n",
    "    #Inputs\n",
    "    net = tflearn.input_data([None, 6350])\n",
    "    \n",
    "    #Hidden layer\n",
    "    net = tflearn.fully_connected(net, 120, activation='relu')\n",
    "    \n",
    "    #Output Layer\n",
    "    net = tflearn.fully_connected(net, 2, activation='softmax')\n",
    "    net = tflearn.regression(net, optimizer='sgd', learning_rate=0.09, loss='categorical_crossentropy')\n",
    "    \n",
    "    model = tflearn.DNN(net)\n",
    "    return model\n",
    "\n",
    "\n",
    "# Now, build it!\n",
    "model = build_network_model()"
   ]
  },
  {
   "cell_type": "markdown",
   "metadata": {},
   "source": [
    "## Training the network\n"
   ]
  },
  {
   "cell_type": "code",
   "execution_count": 163,
   "metadata": {},
   "outputs": [
    {
     "name": "stdout",
     "output_type": "stream",
     "text": [
      "Training Step: 999  | total loss: \u001b[1m\u001b[32m0.20216\u001b[0m\u001b[0m | time: 0.154s\n",
      "| SGD | epoch: 100 | loss: 0.20216 - acc: 0.9521 -- iter: 1800/1827\n",
      "Training Step: 1000  | total loss: \u001b[1m\u001b[32m0.19995\u001b[0m\u001b[0m | time: 1.165s\n",
      "| SGD | epoch: 100 | loss: 0.19995 - acc: 0.9544 | val_loss: 0.36335 - val_acc: 0.8088 -- iter: 1827/1827\n",
      "--\n"
     ]
    }
   ],
   "source": [
    "model.fit(X_train, Y_train, validation_set = 0.1, show_metric=True, batch_size=200, n_epoch=100)"
   ]
  },
  {
   "cell_type": "markdown",
   "metadata": {},
   "source": [
    "## Testing "
   ]
  },
  {
   "cell_type": "code",
   "execution_count": 164,
   "metadata": {},
   "outputs": [
    {
     "name": "stdout",
     "output_type": "stream",
     "text": [
      "Test accuracy:  [ 0.78761062  0.78761062]\n"
     ]
    }
   ],
   "source": [
    "predictions = (np.array(model.predict(X_test)) >= 0.5).astype(np.int_)\n",
    "test_accuracy = np.mean(predictions == Y_test, axis=0)\n",
    "print(\"Test accuracy: \", test_accuracy)"
   ]
  },
  {
   "cell_type": "code",
   "execution_count": 165,
   "metadata": {},
   "outputs": [
    {
     "name": "stdout",
     "output_type": "stream",
     "text": [
      "[0.09177649021148682, 0.9082234501838684]\n",
      "Positiv!\n"
     ]
    }
   ],
   "source": [
    "# Check with a custom sentence.\n",
    "# res = the result of the prediction, containing the positive and negative probability.\n",
    "res = model.predict([text_to_vector(\"ein spannender film\")])[0]\n",
    "print(res)\n",
    "if(res[1] > res[0]):\n",
    "    print('Positiv!')\n",
    "else:\n",
    "    print('Negativ!')"
   ]
  },
  {
   "cell_type": "markdown",
   "metadata": {
    "collapsed": true
   },
   "source": [
    "## Predicting New Reviews"
   ]
  },
  {
   "cell_type": "code",
   "execution_count": 166,
   "metadata": {
    "collapsed": true
   },
   "outputs": [],
   "source": [
    "for index, row in tatortreviews_new.iterrows():\n",
    "    res = model.predict([text_to_vector(row['Review'])])[0]\n",
    "    if(res[1] > res[0]):\n",
    "        tatortreviews_new.loc[index, 'Evalu'] = 1\n",
    "    else:\n",
    "        tatortreviews_new.loc[index, 'Evalu'] = 0\n",
    "        \n",
    "tatortreviews_new.to_csv(index = False, path_or_buf = 'data/tatortreviews_new_prediction.csv')\n",
    "\n"
   ]
  },
  {
   "cell_type": "markdown",
   "metadata": {
    "collapsed": true
   },
   "source": [
    "## Comparing with Corrected Review Evaluations\n",
    "(before running this step, a manual step is needed to review the predictions, and update incorrect evaluations in data/tatortreviews_new_prediction_corrected.csv"
   ]
  },
  {
   "cell_type": "code",
   "execution_count": 270,
   "metadata": {},
   "outputs": [
    {
     "data": {
      "image/png": "[encoded data removed]",
      "text/plain": [
       "<matplotlib.figure.Figure at 0x12cd1cf98>"
      ]
     },
     "metadata": {},
     "output_type": "display_data"
    }
   ],
   "source": [
    "%matplotlib inline\n",
    "import collections\n",
    "\n",
    "tatortreviews_new_corrected = pd.read_csv('data/tatortreviews_new_prediction_corrected.csv')\n",
    "count_tatortreviews_new_corrected = collections.Counter(tatortreviews_new_corrected['Evalu'])\n",
    "count_tatortreviews_new = collections.Counter(tatortreviews_new['Evalu'])\n",
    "plt.figure(figsize=(6, 8), facecolor='w', edgecolor='k')\n",
    "plt.title('Review Results - Predicted')\n",
    "index = np.arange(1)\n",
    "bar_width = 1\n",
    "opacity = 1\n",
    "pred_pos = plt.bar(index, count_tatortreviews_new[1], bar_width,\n",
    "                 alpha=opacity,\n",
    "                 color='#ff0000',\n",
    "                 label='Prediction - Pos')\n",
    "\n",
    "corr_pos = plt.bar(index + bar_width, count_tatortreviews_new_corrected[1], bar_width,\n",
    "                 alpha=opacity,\n",
    "                 color='#0000ff',\n",
    "                 label='Actual - Pos')\n",
    "\n",
    "pred_neg = plt.bar(index + (bar_width * 2) , count_tatortreviews_new[0], bar_width,\n",
    "                 alpha=opacity,\n",
    "                 color='#ff6600',\n",
    "                 label='Prediction - Neg')\n",
    "\n",
    "corr_neg = plt.bar(index + (bar_width * 3), count_tatortreviews_new_corrected[0], bar_width,\n",
    "                 alpha=opacity,\n",
    "                 color='#0066ff',\n",
    "                 label='Actual - Neg')\n",
    "\n",
    "plt.legend()\n",
    "\n",
    "labels = ['positive', 'negative']\n",
    "plt.xticks([index + bar_width / 2, (bar_width * 3) - (bar_width / 2) ] , labels)\n",
    "plt.yticks([20, 40, 60, 80, 100, 120, 140, 160, 180, 200, 220, 240, 260])\n",
    "plt.show()"
   ]
  },
  {
   "cell_type": "code",
   "execution_count": null,
   "metadata": {
    "collapsed": true
   },
   "outputs": [],
   "source": []
  }
 ],
 "metadata": {
  "kernelspec": {
   "display_name": "Python 3",
   "language": "python",
   "name": "python3"
  },
  "language_info": {
   "codemirror_mode": {
    "name": "ipython",
    "version": 3
   },
   "file_extension": ".py",
   "mimetype": "text/x-python",
   "name": "python",
   "nbconvert_exporter": "python",
   "pygments_lexer": "ipython3",
   "version": "3.6.1"
  }
 },
 "nbformat": 4,
 "nbformat_minor": 1
}
